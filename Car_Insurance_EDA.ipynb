{
  "metadata": {
    "kernelspec": {
      "language": "python",
      "display_name": "Python 3",
      "name": "python3"
    },
    "language_info": {
      "name": "python",
      "version": "3.10.13",
      "mimetype": "text/x-python",
      "codemirror_mode": {
        "name": "ipython",
        "version": 3
      },
      "pygments_lexer": "ipython3",
      "nbconvert_exporter": "python",
      "file_extension": ".py"
    },
    "kaggle": {
      "accelerator": "none",
      "dataSources": [
        {
          "sourceId": 2947792,
          "sourceType": "datasetVersion",
          "datasetId": 1807255
        }
      ],
      "dockerImageVersionId": 30673,
      "isInternetEnabled": true,
      "language": "python",
      "sourceType": "notebook",
      "isGpuEnabled": false
    },
    "colab": {
      "name": "Car Insurance - EDA",
      "provenance": [],
      "include_colab_link": true
    }
  },
  "nbformat_minor": 0,
  "nbformat": 4,
  "cells": [
    {
      "cell_type": "markdown",
      "metadata": {
        "id": "view-in-github",
        "colab_type": "text"
      },
      "source": [
        "<a href=\"https://colab.research.google.com/github/gitgubbenito/AI_ML/blob/main/Car_Insurance_EDA.ipynb\" target=\"_parent\"><img src=\"https://colab.research.google.com/assets/colab-badge.svg\" alt=\"Open In Colab\"/></a>"
      ]
    },
    {
      "source": [
        "\n",
        "# IMPORTANT: RUN THIS CELL IN ORDER TO IMPORT YOUR KAGGLE DATA SOURCES\n",
        "# TO THE CORRECT LOCATION (/kaggle/input) IN YOUR NOTEBOOK,\n",
        "# THEN FEEL FREE TO DELETE THIS CELL.\n",
        "# NOTE: THIS NOTEBOOK ENVIRONMENT DIFFERS FROM KAGGLE'S PYTHON\n",
        "# ENVIRONMENT SO THERE MAY BE MISSING LIBRARIES USED BY YOUR\n",
        "# NOTEBOOK.\n",
        "\n",
        "import os\n",
        "import sys\n",
        "from tempfile import NamedTemporaryFile\n",
        "from urllib.request import urlopen\n",
        "from urllib.parse import unquote, urlparse\n",
        "from urllib.error import HTTPError\n",
        "from zipfile import ZipFile\n",
        "import tarfile\n",
        "import shutil\n",
        "\n",
        "CHUNK_SIZE = 40960\n",
        "DATA_SOURCE_MAPPING = 'vehicle-claim-fraud-detection:https%3A%2F%2Fstorage.googleapis.com%2Fkaggle-data-sets%2F1807255%2F2947792%2Fbundle%2Farchive.zip%3FX-Goog-Algorithm%3DGOOG4-RSA-SHA256%26X-Goog-Credential%3Dgcp-kaggle-com%2540kaggle-161607.iam.gserviceaccount.com%252F20240411%252Fauto%252Fstorage%252Fgoog4_request%26X-Goog-Date%3D20240411T172803Z%26X-Goog-Expires%3D259200%26X-Goog-SignedHeaders%3Dhost%26X-Goog-Signature%3D8217a4f7eae7770c29bdaf092e3f1d7e893fa63ef79ada821fcc57e483b863b91b600c9ba0c727e606599c4fdd513aac48e9889c43cb6eb6968994702d9d86af2be6debcda9c9459c1bfa874f35f5e95d43f36d0390ac21fa44305ac33b9f0c4c523e27fc1f03b14924729ab2da40cda2a15f6e59580967feb646e4ffd0e60b0ce7025e7a112d05c1e5637cb8f895dd951a88d733df9ff04f3dc36b0eca43451b532b6bdc7b77c47b321fcaeda627d1f70ef0347be2447372d89e56a6158cf21d1dae7c5ca1e1b421699e5d18f33e8c3f59e4660818476e528b9020e1326ff6c2bbaacda8f3f2c4a0818abcb566d532e6240cb718296d1e1ec67f5660fb2ab31'\n",
        "\n",
        "KAGGLE_INPUT_PATH='/kaggle/input'\n",
        "KAGGLE_WORKING_PATH='/kaggle/working'\n",
        "KAGGLE_SYMLINK='kaggle'\n",
        "\n",
        "!umount /kaggle/input/ 2> /dev/null\n",
        "shutil.rmtree('/kaggle/input', ignore_errors=True)\n",
        "os.makedirs(KAGGLE_INPUT_PATH, 0o777, exist_ok=True)\n",
        "os.makedirs(KAGGLE_WORKING_PATH, 0o777, exist_ok=True)\n",
        "\n",
        "try:\n",
        "  os.symlink(KAGGLE_INPUT_PATH, os.path.join(\"..\", 'input'), target_is_directory=True)\n",
        "except FileExistsError:\n",
        "  pass\n",
        "try:\n",
        "  os.symlink(KAGGLE_WORKING_PATH, os.path.join(\"..\", 'working'), target_is_directory=True)\n",
        "except FileExistsError:\n",
        "  pass\n",
        "\n",
        "for data_source_mapping in DATA_SOURCE_MAPPING.split(','):\n",
        "    directory, download_url_encoded = data_source_mapping.split(':')\n",
        "    download_url = unquote(download_url_encoded)\n",
        "    filename = urlparse(download_url).path\n",
        "    destination_path = os.path.join(KAGGLE_INPUT_PATH, directory)\n",
        "    try:\n",
        "        with urlopen(download_url) as fileres, NamedTemporaryFile() as tfile:\n",
        "            total_length = fileres.headers['content-length']\n",
        "            print(f'Downloading {directory}, {total_length} bytes compressed')\n",
        "            dl = 0\n",
        "            data = fileres.read(CHUNK_SIZE)\n",
        "            while len(data) > 0:\n",
        "                dl += len(data)\n",
        "                tfile.write(data)\n",
        "                done = int(50 * dl / int(total_length))\n",
        "                sys.stdout.write(f\"\\r[{'=' * done}{' ' * (50-done)}] {dl} bytes downloaded\")\n",
        "                sys.stdout.flush()\n",
        "                data = fileres.read(CHUNK_SIZE)\n",
        "            if filename.endswith('.zip'):\n",
        "              with ZipFile(tfile) as zfile:\n",
        "                zfile.extractall(destination_path)\n",
        "            else:\n",
        "              with tarfile.open(tfile.name) as tarfile:\n",
        "                tarfile.extractall(destination_path)\n",
        "            print(f'\\nDownloaded and uncompressed: {directory}')\n",
        "    except HTTPError as e:\n",
        "        print(f'Failed to load (likely expired) {download_url} to path {destination_path}')\n",
        "        continue\n",
        "    except OSError as e:\n",
        "        print(f'Failed to load {download_url} to path {destination_path}')\n",
        "        continue\n",
        "\n",
        "print('Data source import complete.')\n"
      ],
      "metadata": {
        "id": "lOodaE7uOvt-",
        "outputId": "2caa58c7-819f-47eb-c006-77907fffbc0b",
        "colab": {
          "base_uri": "https://localhost:8080/"
        }
      },
      "cell_type": "code",
      "outputs": [
        {
          "output_type": "stream",
          "name": "stdout",
          "text": [
            "Downloading vehicle-claim-fraud-detection, 356667 bytes compressed\n",
            "[==================================================] 356667 bytes downloaded\n",
            "Downloaded and uncompressed: vehicle-claim-fraud-detection\n",
            "Data source import complete.\n"
          ]
        }
      ],
      "execution_count": 3
    },
    {
      "cell_type": "markdown",
      "source": [
        "<H1 style=\"text-align:center; font-size : 40px; font-family : 'Poppins'; \"><strong>Data Science Final Project - Car Insurance Fraud Detection</strong>  </H1>"
      ],
      "metadata": {
        "id": "PdUJjeoUOvt_"
      }
    },
    {
      "cell_type": "markdown",
      "source": [
        "<a id = '0'></a>\n",
        "<p style = \"font-size : 35px; font-family : 'Poppins'; border-radius: 10px; \"><strong>Table of Content</strong></p>\n",
        "\n",
        "* [Data Analysis](#1.0)\n",
        "    * [Data Exploration](#1.1)\n",
        "    * [Data Visualization](#1.2)\n",
        "    * [Handling Missing Values](#1.3)\n",
        "    * [Normalization](#1.4)\n",
        "    * [Creating New Features](#1.5)\n",
        "    * [Label Encoding](#1.6)\n",
        "    * [Handling Imbalanced Data](#1.7)\n",
        "    * [Features Selection](#1.8)\n",
        "    \n",
        "* [Models](#2.0)\n",
        "    * [Support Vector Classifier](#2.1)\n",
        "    * [Knn](#2.2)\n",
        "    * [Decision Tree Classifier](#2.3)\n",
        "    * [Random Forest Classifier](#2.4)\n",
        "    * [Ada Boost Classifier](#2.5)\n",
        "    * [Gradient Boosting Classifier](#2.6)\n",
        "    * [Stochastic Gradient Boosting (SGB)](#2.7)\n",
        "    * [XgBoost](#2.8)\n",
        "    * [Cat Boost Classifier](#2.9)\n",
        "    * [Extra Trees Classifier](#2.10)\n",
        "    * [LGBM Classifier](#2.11)\n",
        "    * [Voting Classifier](#2.12)\n",
        "\n",
        "* [Models Comparison](#3.0)"
      ],
      "metadata": {
        "id": "d-qZoIlhOvuA"
      }
    },
    {
      "cell_type": "markdown",
      "source": [
        "### Import Libraries"
      ],
      "metadata": {
        "id": "9tcYrVehOvuB"
      }
    },
    {
      "cell_type": "code",
      "source": [
        "!pip install category_encoders\n",
        "#!pip install category_encoders.ordinal"
      ],
      "metadata": {
        "id": "he3fn9dtO_Bk",
        "outputId": "39236c81-c02c-4331-8605-e5a3d91edaaa",
        "colab": {
          "base_uri": "https://localhost:8080/"
        }
      },
      "execution_count": 9,
      "outputs": [
        {
          "output_type": "stream",
          "name": "stdout",
          "text": [
            "Requirement already satisfied: category_encoders in /usr/local/lib/python3.10/dist-packages (2.6.3)\n",
            "Requirement already satisfied: numpy>=1.14.0 in /usr/local/lib/python3.10/dist-packages (from category_encoders) (1.25.2)\n",
            "Requirement already satisfied: scikit-learn>=0.20.0 in /usr/local/lib/python3.10/dist-packages (from category_encoders) (1.2.2)\n",
            "Requirement already satisfied: scipy>=1.0.0 in /usr/local/lib/python3.10/dist-packages (from category_encoders) (1.11.4)\n",
            "Requirement already satisfied: statsmodels>=0.9.0 in /usr/local/lib/python3.10/dist-packages (from category_encoders) (0.14.1)\n",
            "Requirement already satisfied: pandas>=1.0.5 in /usr/local/lib/python3.10/dist-packages (from category_encoders) (2.0.3)\n",
            "Requirement already satisfied: patsy>=0.5.1 in /usr/local/lib/python3.10/dist-packages (from category_encoders) (0.5.6)\n",
            "Requirement already satisfied: python-dateutil>=2.8.2 in /usr/local/lib/python3.10/dist-packages (from pandas>=1.0.5->category_encoders) (2.8.2)\n",
            "Requirement already satisfied: pytz>=2020.1 in /usr/local/lib/python3.10/dist-packages (from pandas>=1.0.5->category_encoders) (2023.4)\n",
            "Requirement already satisfied: tzdata>=2022.1 in /usr/local/lib/python3.10/dist-packages (from pandas>=1.0.5->category_encoders) (2024.1)\n",
            "Requirement already satisfied: six in /usr/local/lib/python3.10/dist-packages (from patsy>=0.5.1->category_encoders) (1.16.0)\n",
            "Requirement already satisfied: joblib>=1.1.1 in /usr/local/lib/python3.10/dist-packages (from scikit-learn>=0.20.0->category_encoders) (1.3.2)\n",
            "Requirement already satisfied: threadpoolctl>=2.0.0 in /usr/local/lib/python3.10/dist-packages (from scikit-learn>=0.20.0->category_encoders) (3.4.0)\n",
            "Requirement already satisfied: packaging>=21.3 in /usr/local/lib/python3.10/dist-packages (from statsmodels>=0.9.0->category_encoders) (24.0)\n"
          ]
        }
      ]
    },
    {
      "cell_type": "code",
      "source": [
        "import numpy as np\n",
        "import pandas as pd\n",
        "import matplotlib.pyplot as plt\n",
        "import seaborn as sns\n",
        "from sklearn.preprocessing import LabelEncoder\n",
        "from category_encoders.ordinal import OrdinalEncoder\n",
        "from sklearn.utils import resample\n",
        "from imblearn.over_sampling import SMOTE\n",
        "from sklearn.model_selection import train_test_split\n",
        "from sklearn.linear_model import LogisticRegression\n",
        "from sklearn.tree import DecisionTreeClassifier\n",
        "from sklearn.ensemble import RandomForestClassifier\n",
        "from sklearn.ensemble import GradientBoostingClassifier\n",
        "from sklearn.tree import DecisionTreeClassifier\n",
        "from sklearn.naive_bayes import GaussianNB\n",
        "\n",
        "import xgboost as xgb\n",
        "from sklearn.model_selection import GridSearchCV\n",
        "\n",
        "\n",
        "from sklearn.model_selection import KFold\n",
        "import time\n",
        "\n",
        "\n",
        "from sklearn.metrics import mean_squared_error, r2_score\n",
        "\n",
        "from sklearn.metrics import accuracy_score, precision_score, recall_score, f1_score\n",
        "from tabulate import tabulate\n",
        "\n",
        "\n",
        "import warnings\n",
        "warnings.filterwarnings('ignore')\n",
        "\n",
        "plt.style.use('ggplot')"
      ],
      "metadata": {
        "_uuid": "8f2839f25d086af736a60e9eeb907d3b93b6e0e5",
        "_cell_guid": "b1076dfc-b9ad-4769-8c92-a6c4dae69d19",
        "execution": {
          "iopub.status.busy": "2024-04-04T15:26:48.874184Z",
          "iopub.execute_input": "2024-04-04T15:26:48.875452Z",
          "iopub.status.idle": "2024-04-04T15:26:48.886276Z",
          "shell.execute_reply.started": "2024-04-04T15:26:48.875413Z",
          "shell.execute_reply": "2024-04-04T15:26:48.884803Z"
        },
        "trusted": true,
        "id": "RRDy6M3cOvuB"
      },
      "execution_count": 10,
      "outputs": []
    },
    {
      "cell_type": "code",
      "source": [
        "df = pd.read_csv('/kaggle/input/vehicle-claim-fraud-detection/fraud_oracle.csv')"
      ],
      "metadata": {
        "execution": {
          "iopub.status.busy": "2024-04-04T15:26:48.991679Z",
          "iopub.execute_input": "2024-04-04T15:26:48.992103Z",
          "iopub.status.idle": "2024-04-04T15:26:49.103673Z",
          "shell.execute_reply.started": "2024-04-04T15:26:48.992065Z",
          "shell.execute_reply": "2024-04-04T15:26:49.102223Z"
        },
        "trusted": true,
        "id": "Krye9HZgOvuC"
      },
      "execution_count": 12,
      "outputs": []
    },
    {
      "cell_type": "markdown",
      "source": [
        "<a id = '1.0'></a>\n",
        "<p style = \"font-size : 35px; font-family : 'Poppins'; border-radius: 10px;\"><strong>Data Analysis</strong></p>"
      ],
      "metadata": {
        "id": "kSU7dO0sOvuC"
      }
    },
    {
      "cell_type": "markdown",
      "source": [
        "<a id = '1.1'></a>\n",
        "<p style = \"font-size : 25px; font-family : 'Poppins'; border-radius: 10px;\"><strong>Data Exploration</strong></p>"
      ],
      "metadata": {
        "id": "EvU7mLKHOvuC"
      }
    },
    {
      "cell_type": "code",
      "source": [
        "df.head()"
      ],
      "metadata": {
        "execution": {
          "iopub.status.busy": "2024-04-04T15:26:49.119697Z",
          "iopub.execute_input": "2024-04-04T15:26:49.120122Z",
          "iopub.status.idle": "2024-04-04T15:26:49.148262Z",
          "shell.execute_reply.started": "2024-04-04T15:26:49.12009Z",
          "shell.execute_reply": "2024-04-04T15:26:49.146454Z"
        },
        "trusted": true,
        "id": "ihhEXlE2OvuC",
        "outputId": "35e54f15-ab8f-4ef7-e667-b18114d092f2",
        "colab": {
          "base_uri": "https://localhost:8080/",
          "height": 255
        }
      },
      "execution_count": 14,
      "outputs": [
        {
          "output_type": "execute_result",
          "data": {
            "text/plain": [
              "  Month  WeekOfMonth  DayOfWeek    Make AccidentArea DayOfWeekClaimed  \\\n",
              "0   Dec            5  Wednesday   Honda        Urban          Tuesday   \n",
              "1   Jan            3  Wednesday   Honda        Urban           Monday   \n",
              "2   Oct            5     Friday   Honda        Urban         Thursday   \n",
              "3   Jun            2   Saturday  Toyota        Rural           Friday   \n",
              "4   Jan            5     Monday   Honda        Urban          Tuesday   \n",
              "\n",
              "  MonthClaimed  WeekOfMonthClaimed     Sex MaritalStatus  ...  AgeOfVehicle  \\\n",
              "0          Jan                   1  Female        Single  ...       3 years   \n",
              "1          Jan                   4    Male        Single  ...       6 years   \n",
              "2          Nov                   2    Male       Married  ...       7 years   \n",
              "3          Jul                   1    Male       Married  ...   more than 7   \n",
              "4          Feb                   2  Female        Single  ...       5 years   \n",
              "\n",
              "  AgeOfPolicyHolder PoliceReportFiled WitnessPresent AgentType  \\\n",
              "0          26 to 30                No             No  External   \n",
              "1          31 to 35               Yes             No  External   \n",
              "2          41 to 50                No             No  External   \n",
              "3          51 to 65               Yes             No  External   \n",
              "4          31 to 35                No             No  External   \n",
              "\n",
              "   NumberOfSuppliments  AddressChange_Claim  NumberOfCars  Year  BasePolicy  \n",
              "0                 none               1 year        3 to 4  1994   Liability  \n",
              "1                 none            no change     1 vehicle  1994   Collision  \n",
              "2                 none            no change     1 vehicle  1994   Collision  \n",
              "3          more than 5            no change     1 vehicle  1994   Liability  \n",
              "4                 none            no change     1 vehicle  1994   Collision  \n",
              "\n",
              "[5 rows x 33 columns]"
            ],
            "text/html": [
              "\n",
              "  <div id=\"df-d7d3a3fe-4b8a-4f91-b3e1-6b5db2816f94\" class=\"colab-df-container\">\n",
              "    <div>\n",
              "<style scoped>\n",
              "    .dataframe tbody tr th:only-of-type {\n",
              "        vertical-align: middle;\n",
              "    }\n",
              "\n",
              "    .dataframe tbody tr th {\n",
              "        vertical-align: top;\n",
              "    }\n",
              "\n",
              "    .dataframe thead th {\n",
              "        text-align: right;\n",
              "    }\n",
              "</style>\n",
              "<table border=\"1\" class=\"dataframe\">\n",
              "  <thead>\n",
              "    <tr style=\"text-align: right;\">\n",
              "      <th></th>\n",
              "      <th>Month</th>\n",
              "      <th>WeekOfMonth</th>\n",
              "      <th>DayOfWeek</th>\n",
              "      <th>Make</th>\n",
              "      <th>AccidentArea</th>\n",
              "      <th>DayOfWeekClaimed</th>\n",
              "      <th>MonthClaimed</th>\n",
              "      <th>WeekOfMonthClaimed</th>\n",
              "      <th>Sex</th>\n",
              "      <th>MaritalStatus</th>\n",
              "      <th>...</th>\n",
              "      <th>AgeOfVehicle</th>\n",
              "      <th>AgeOfPolicyHolder</th>\n",
              "      <th>PoliceReportFiled</th>\n",
              "      <th>WitnessPresent</th>\n",
              "      <th>AgentType</th>\n",
              "      <th>NumberOfSuppliments</th>\n",
              "      <th>AddressChange_Claim</th>\n",
              "      <th>NumberOfCars</th>\n",
              "      <th>Year</th>\n",
              "      <th>BasePolicy</th>\n",
              "    </tr>\n",
              "  </thead>\n",
              "  <tbody>\n",
              "    <tr>\n",
              "      <th>0</th>\n",
              "      <td>Dec</td>\n",
              "      <td>5</td>\n",
              "      <td>Wednesday</td>\n",
              "      <td>Honda</td>\n",
              "      <td>Urban</td>\n",
              "      <td>Tuesday</td>\n",
              "      <td>Jan</td>\n",
              "      <td>1</td>\n",
              "      <td>Female</td>\n",
              "      <td>Single</td>\n",
              "      <td>...</td>\n",
              "      <td>3 years</td>\n",
              "      <td>26 to 30</td>\n",
              "      <td>No</td>\n",
              "      <td>No</td>\n",
              "      <td>External</td>\n",
              "      <td>none</td>\n",
              "      <td>1 year</td>\n",
              "      <td>3 to 4</td>\n",
              "      <td>1994</td>\n",
              "      <td>Liability</td>\n",
              "    </tr>\n",
              "    <tr>\n",
              "      <th>1</th>\n",
              "      <td>Jan</td>\n",
              "      <td>3</td>\n",
              "      <td>Wednesday</td>\n",
              "      <td>Honda</td>\n",
              "      <td>Urban</td>\n",
              "      <td>Monday</td>\n",
              "      <td>Jan</td>\n",
              "      <td>4</td>\n",
              "      <td>Male</td>\n",
              "      <td>Single</td>\n",
              "      <td>...</td>\n",
              "      <td>6 years</td>\n",
              "      <td>31 to 35</td>\n",
              "      <td>Yes</td>\n",
              "      <td>No</td>\n",
              "      <td>External</td>\n",
              "      <td>none</td>\n",
              "      <td>no change</td>\n",
              "      <td>1 vehicle</td>\n",
              "      <td>1994</td>\n",
              "      <td>Collision</td>\n",
              "    </tr>\n",
              "    <tr>\n",
              "      <th>2</th>\n",
              "      <td>Oct</td>\n",
              "      <td>5</td>\n",
              "      <td>Friday</td>\n",
              "      <td>Honda</td>\n",
              "      <td>Urban</td>\n",
              "      <td>Thursday</td>\n",
              "      <td>Nov</td>\n",
              "      <td>2</td>\n",
              "      <td>Male</td>\n",
              "      <td>Married</td>\n",
              "      <td>...</td>\n",
              "      <td>7 years</td>\n",
              "      <td>41 to 50</td>\n",
              "      <td>No</td>\n",
              "      <td>No</td>\n",
              "      <td>External</td>\n",
              "      <td>none</td>\n",
              "      <td>no change</td>\n",
              "      <td>1 vehicle</td>\n",
              "      <td>1994</td>\n",
              "      <td>Collision</td>\n",
              "    </tr>\n",
              "    <tr>\n",
              "      <th>3</th>\n",
              "      <td>Jun</td>\n",
              "      <td>2</td>\n",
              "      <td>Saturday</td>\n",
              "      <td>Toyota</td>\n",
              "      <td>Rural</td>\n",
              "      <td>Friday</td>\n",
              "      <td>Jul</td>\n",
              "      <td>1</td>\n",
              "      <td>Male</td>\n",
              "      <td>Married</td>\n",
              "      <td>...</td>\n",
              "      <td>more than 7</td>\n",
              "      <td>51 to 65</td>\n",
              "      <td>Yes</td>\n",
              "      <td>No</td>\n",
              "      <td>External</td>\n",
              "      <td>more than 5</td>\n",
              "      <td>no change</td>\n",
              "      <td>1 vehicle</td>\n",
              "      <td>1994</td>\n",
              "      <td>Liability</td>\n",
              "    </tr>\n",
              "    <tr>\n",
              "      <th>4</th>\n",
              "      <td>Jan</td>\n",
              "      <td>5</td>\n",
              "      <td>Monday</td>\n",
              "      <td>Honda</td>\n",
              "      <td>Urban</td>\n",
              "      <td>Tuesday</td>\n",
              "      <td>Feb</td>\n",
              "      <td>2</td>\n",
              "      <td>Female</td>\n",
              "      <td>Single</td>\n",
              "      <td>...</td>\n",
              "      <td>5 years</td>\n",
              "      <td>31 to 35</td>\n",
              "      <td>No</td>\n",
              "      <td>No</td>\n",
              "      <td>External</td>\n",
              "      <td>none</td>\n",
              "      <td>no change</td>\n",
              "      <td>1 vehicle</td>\n",
              "      <td>1994</td>\n",
              "      <td>Collision</td>\n",
              "    </tr>\n",
              "  </tbody>\n",
              "</table>\n",
              "<p>5 rows × 33 columns</p>\n",
              "</div>\n",
              "    <div class=\"colab-df-buttons\">\n",
              "\n",
              "  <div class=\"colab-df-container\">\n",
              "    <button class=\"colab-df-convert\" onclick=\"convertToInteractive('df-d7d3a3fe-4b8a-4f91-b3e1-6b5db2816f94')\"\n",
              "            title=\"Convert this dataframe to an interactive table.\"\n",
              "            style=\"display:none;\">\n",
              "\n",
              "  <svg xmlns=\"http://www.w3.org/2000/svg\" height=\"24px\" viewBox=\"0 -960 960 960\">\n",
              "    <path d=\"M120-120v-720h720v720H120Zm60-500h600v-160H180v160Zm220 220h160v-160H400v160Zm0 220h160v-160H400v160ZM180-400h160v-160H180v160Zm440 0h160v-160H620v160ZM180-180h160v-160H180v160Zm440 0h160v-160H620v160Z\"/>\n",
              "  </svg>\n",
              "    </button>\n",
              "\n",
              "  <style>\n",
              "    .colab-df-container {\n",
              "      display:flex;\n",
              "      gap: 12px;\n",
              "    }\n",
              "\n",
              "    .colab-df-convert {\n",
              "      background-color: #E8F0FE;\n",
              "      border: none;\n",
              "      border-radius: 50%;\n",
              "      cursor: pointer;\n",
              "      display: none;\n",
              "      fill: #1967D2;\n",
              "      height: 32px;\n",
              "      padding: 0 0 0 0;\n",
              "      width: 32px;\n",
              "    }\n",
              "\n",
              "    .colab-df-convert:hover {\n",
              "      background-color: #E2EBFA;\n",
              "      box-shadow: 0px 1px 2px rgba(60, 64, 67, 0.3), 0px 1px 3px 1px rgba(60, 64, 67, 0.15);\n",
              "      fill: #174EA6;\n",
              "    }\n",
              "\n",
              "    .colab-df-buttons div {\n",
              "      margin-bottom: 4px;\n",
              "    }\n",
              "\n",
              "    [theme=dark] .colab-df-convert {\n",
              "      background-color: #3B4455;\n",
              "      fill: #D2E3FC;\n",
              "    }\n",
              "\n",
              "    [theme=dark] .colab-df-convert:hover {\n",
              "      background-color: #434B5C;\n",
              "      box-shadow: 0px 1px 3px 1px rgba(0, 0, 0, 0.15);\n",
              "      filter: drop-shadow(0px 1px 2px rgba(0, 0, 0, 0.3));\n",
              "      fill: #FFFFFF;\n",
              "    }\n",
              "  </style>\n",
              "\n",
              "    <script>\n",
              "      const buttonEl =\n",
              "        document.querySelector('#df-d7d3a3fe-4b8a-4f91-b3e1-6b5db2816f94 button.colab-df-convert');\n",
              "      buttonEl.style.display =\n",
              "        google.colab.kernel.accessAllowed ? 'block' : 'none';\n",
              "\n",
              "      async function convertToInteractive(key) {\n",
              "        const element = document.querySelector('#df-d7d3a3fe-4b8a-4f91-b3e1-6b5db2816f94');\n",
              "        const dataTable =\n",
              "          await google.colab.kernel.invokeFunction('convertToInteractive',\n",
              "                                                    [key], {});\n",
              "        if (!dataTable) return;\n",
              "\n",
              "        const docLinkHtml = 'Like what you see? Visit the ' +\n",
              "          '<a target=\"_blank\" href=https://colab.research.google.com/notebooks/data_table.ipynb>data table notebook</a>'\n",
              "          + ' to learn more about interactive tables.';\n",
              "        element.innerHTML = '';\n",
              "        dataTable['output_type'] = 'display_data';\n",
              "        await google.colab.output.renderOutput(dataTable, element);\n",
              "        const docLink = document.createElement('div');\n",
              "        docLink.innerHTML = docLinkHtml;\n",
              "        element.appendChild(docLink);\n",
              "      }\n",
              "    </script>\n",
              "  </div>\n",
              "\n",
              "\n",
              "<div id=\"df-2859bd5e-f568-4569-8ac9-233f11491768\">\n",
              "  <button class=\"colab-df-quickchart\" onclick=\"quickchart('df-2859bd5e-f568-4569-8ac9-233f11491768')\"\n",
              "            title=\"Suggest charts\"\n",
              "            style=\"display:none;\">\n",
              "\n",
              "<svg xmlns=\"http://www.w3.org/2000/svg\" height=\"24px\"viewBox=\"0 0 24 24\"\n",
              "     width=\"24px\">\n",
              "    <g>\n",
              "        <path d=\"M19 3H5c-1.1 0-2 .9-2 2v14c0 1.1.9 2 2 2h14c1.1 0 2-.9 2-2V5c0-1.1-.9-2-2-2zM9 17H7v-7h2v7zm4 0h-2V7h2v10zm4 0h-2v-4h2v4z\"/>\n",
              "    </g>\n",
              "</svg>\n",
              "  </button>\n",
              "\n",
              "<style>\n",
              "  .colab-df-quickchart {\n",
              "      --bg-color: #E8F0FE;\n",
              "      --fill-color: #1967D2;\n",
              "      --hover-bg-color: #E2EBFA;\n",
              "      --hover-fill-color: #174EA6;\n",
              "      --disabled-fill-color: #AAA;\n",
              "      --disabled-bg-color: #DDD;\n",
              "  }\n",
              "\n",
              "  [theme=dark] .colab-df-quickchart {\n",
              "      --bg-color: #3B4455;\n",
              "      --fill-color: #D2E3FC;\n",
              "      --hover-bg-color: #434B5C;\n",
              "      --hover-fill-color: #FFFFFF;\n",
              "      --disabled-bg-color: #3B4455;\n",
              "      --disabled-fill-color: #666;\n",
              "  }\n",
              "\n",
              "  .colab-df-quickchart {\n",
              "    background-color: var(--bg-color);\n",
              "    border: none;\n",
              "    border-radius: 50%;\n",
              "    cursor: pointer;\n",
              "    display: none;\n",
              "    fill: var(--fill-color);\n",
              "    height: 32px;\n",
              "    padding: 0;\n",
              "    width: 32px;\n",
              "  }\n",
              "\n",
              "  .colab-df-quickchart:hover {\n",
              "    background-color: var(--hover-bg-color);\n",
              "    box-shadow: 0 1px 2px rgba(60, 64, 67, 0.3), 0 1px 3px 1px rgba(60, 64, 67, 0.15);\n",
              "    fill: var(--button-hover-fill-color);\n",
              "  }\n",
              "\n",
              "  .colab-df-quickchart-complete:disabled,\n",
              "  .colab-df-quickchart-complete:disabled:hover {\n",
              "    background-color: var(--disabled-bg-color);\n",
              "    fill: var(--disabled-fill-color);\n",
              "    box-shadow: none;\n",
              "  }\n",
              "\n",
              "  .colab-df-spinner {\n",
              "    border: 2px solid var(--fill-color);\n",
              "    border-color: transparent;\n",
              "    border-bottom-color: var(--fill-color);\n",
              "    animation:\n",
              "      spin 1s steps(1) infinite;\n",
              "  }\n",
              "\n",
              "  @keyframes spin {\n",
              "    0% {\n",
              "      border-color: transparent;\n",
              "      border-bottom-color: var(--fill-color);\n",
              "      border-left-color: var(--fill-color);\n",
              "    }\n",
              "    20% {\n",
              "      border-color: transparent;\n",
              "      border-left-color: var(--fill-color);\n",
              "      border-top-color: var(--fill-color);\n",
              "    }\n",
              "    30% {\n",
              "      border-color: transparent;\n",
              "      border-left-color: var(--fill-color);\n",
              "      border-top-color: var(--fill-color);\n",
              "      border-right-color: var(--fill-color);\n",
              "    }\n",
              "    40% {\n",
              "      border-color: transparent;\n",
              "      border-right-color: var(--fill-color);\n",
              "      border-top-color: var(--fill-color);\n",
              "    }\n",
              "    60% {\n",
              "      border-color: transparent;\n",
              "      border-right-color: var(--fill-color);\n",
              "    }\n",
              "    80% {\n",
              "      border-color: transparent;\n",
              "      border-right-color: var(--fill-color);\n",
              "      border-bottom-color: var(--fill-color);\n",
              "    }\n",
              "    90% {\n",
              "      border-color: transparent;\n",
              "      border-bottom-color: var(--fill-color);\n",
              "    }\n",
              "  }\n",
              "</style>\n",
              "\n",
              "  <script>\n",
              "    async function quickchart(key) {\n",
              "      const quickchartButtonEl =\n",
              "        document.querySelector('#' + key + ' button');\n",
              "      quickchartButtonEl.disabled = true;  // To prevent multiple clicks.\n",
              "      quickchartButtonEl.classList.add('colab-df-spinner');\n",
              "      try {\n",
              "        const charts = await google.colab.kernel.invokeFunction(\n",
              "            'suggestCharts', [key], {});\n",
              "      } catch (error) {\n",
              "        console.error('Error during call to suggestCharts:', error);\n",
              "      }\n",
              "      quickchartButtonEl.classList.remove('colab-df-spinner');\n",
              "      quickchartButtonEl.classList.add('colab-df-quickchart-complete');\n",
              "    }\n",
              "    (() => {\n",
              "      let quickchartButtonEl =\n",
              "        document.querySelector('#df-2859bd5e-f568-4569-8ac9-233f11491768 button');\n",
              "      quickchartButtonEl.style.display =\n",
              "        google.colab.kernel.accessAllowed ? 'block' : 'none';\n",
              "    })();\n",
              "  </script>\n",
              "</div>\n",
              "\n",
              "    </div>\n",
              "  </div>\n"
            ],
            "application/vnd.google.colaboratory.intrinsic+json": {
              "type": "dataframe",
              "variable_name": "df"
            }
          },
          "metadata": {},
          "execution_count": 14
        }
      ]
    },
    {
      "cell_type": "code",
      "source": [
        "# Get an overview of the dataset\n",
        "df.dtypes"
      ],
      "metadata": {
        "execution": {
          "iopub.status.busy": "2024-04-04T15:26:49.240826Z",
          "iopub.execute_input": "2024-04-04T15:26:49.241343Z",
          "iopub.status.idle": "2024-04-04T15:26:49.251642Z",
          "shell.execute_reply.started": "2024-04-04T15:26:49.241307Z",
          "shell.execute_reply": "2024-04-04T15:26:49.250181Z"
        },
        "trusted": true,
        "id": "r4XSQAuJOvuC",
        "outputId": "f1120cfc-1102-4cbe-a086-972b26f176dd",
        "colab": {
          "base_uri": "https://localhost:8080/"
        }
      },
      "execution_count": 16,
      "outputs": [
        {
          "output_type": "execute_result",
          "data": {
            "text/plain": [
              "Month                   object\n",
              "WeekOfMonth              int64\n",
              "DayOfWeek               object\n",
              "Make                    object\n",
              "AccidentArea            object\n",
              "DayOfWeekClaimed        object\n",
              "MonthClaimed            object\n",
              "WeekOfMonthClaimed       int64\n",
              "Sex                     object\n",
              "MaritalStatus           object\n",
              "Age                      int64\n",
              "Fault                   object\n",
              "PolicyType              object\n",
              "VehicleCategory         object\n",
              "VehiclePrice            object\n",
              "FraudFound_P             int64\n",
              "PolicyNumber             int64\n",
              "RepNumber                int64\n",
              "Deductible               int64\n",
              "DriverRating             int64\n",
              "Days_Policy_Accident    object\n",
              "Days_Policy_Claim       object\n",
              "PastNumberOfClaims      object\n",
              "AgeOfVehicle            object\n",
              "AgeOfPolicyHolder       object\n",
              "PoliceReportFiled       object\n",
              "WitnessPresent          object\n",
              "AgentType               object\n",
              "NumberOfSuppliments     object\n",
              "AddressChange_Claim     object\n",
              "NumberOfCars            object\n",
              "Year                     int64\n",
              "BasePolicy              object\n",
              "dtype: object"
            ]
          },
          "metadata": {},
          "execution_count": 16
        }
      ]
    },
    {
      "cell_type": "code",
      "source": [
        "# Summary statistics for numerical columns - will help us see relevant statistics\n",
        "df.describe()"
      ],
      "metadata": {
        "execution": {
          "iopub.status.busy": "2024-04-04T15:26:49.370664Z",
          "iopub.execute_input": "2024-04-04T15:26:49.371138Z",
          "iopub.status.idle": "2024-04-04T15:26:49.41681Z",
          "shell.execute_reply.started": "2024-04-04T15:26:49.371104Z",
          "shell.execute_reply": "2024-04-04T15:26:49.415174Z"
        },
        "trusted": true,
        "id": "Oynoidw1OvuD",
        "outputId": "35715308-aa76-4ab3-fbc0-99f475d5cbf6",
        "colab": {
          "base_uri": "https://localhost:8080/",
          "height": 320
        }
      },
      "execution_count": 18,
      "outputs": [
        {
          "output_type": "execute_result",
          "data": {
            "text/plain": [
              "        WeekOfMonth  WeekOfMonthClaimed           Age  FraudFound_P  \\\n",
              "count  15420.000000        15420.000000  15420.000000  15420.000000   \n",
              "mean       2.788586            2.693969     39.855707      0.059857   \n",
              "std        1.287585            1.259115     13.492377      0.237230   \n",
              "min        1.000000            1.000000      0.000000      0.000000   \n",
              "25%        2.000000            2.000000     31.000000      0.000000   \n",
              "50%        3.000000            3.000000     38.000000      0.000000   \n",
              "75%        4.000000            4.000000     48.000000      0.000000   \n",
              "max        5.000000            5.000000     80.000000      1.000000   \n",
              "\n",
              "       PolicyNumber     RepNumber    Deductible  DriverRating          Year  \n",
              "count  15420.000000  15420.000000  15420.000000  15420.000000  15420.000000  \n",
              "mean    7710.500000      8.483268    407.704280      2.487808   1994.866472  \n",
              "std     4451.514911      4.599948     43.950998      1.119453      0.803313  \n",
              "min        1.000000      1.000000    300.000000      1.000000   1994.000000  \n",
              "25%     3855.750000      5.000000    400.000000      1.000000   1994.000000  \n",
              "50%     7710.500000      8.000000    400.000000      2.000000   1995.000000  \n",
              "75%    11565.250000     12.000000    400.000000      3.000000   1996.000000  \n",
              "max    15420.000000     16.000000    700.000000      4.000000   1996.000000  "
            ],
            "text/html": [
              "\n",
              "  <div id=\"df-e0cb4cb1-2a05-49a7-935b-273567b14708\" class=\"colab-df-container\">\n",
              "    <div>\n",
              "<style scoped>\n",
              "    .dataframe tbody tr th:only-of-type {\n",
              "        vertical-align: middle;\n",
              "    }\n",
              "\n",
              "    .dataframe tbody tr th {\n",
              "        vertical-align: top;\n",
              "    }\n",
              "\n",
              "    .dataframe thead th {\n",
              "        text-align: right;\n",
              "    }\n",
              "</style>\n",
              "<table border=\"1\" class=\"dataframe\">\n",
              "  <thead>\n",
              "    <tr style=\"text-align: right;\">\n",
              "      <th></th>\n",
              "      <th>WeekOfMonth</th>\n",
              "      <th>WeekOfMonthClaimed</th>\n",
              "      <th>Age</th>\n",
              "      <th>FraudFound_P</th>\n",
              "      <th>PolicyNumber</th>\n",
              "      <th>RepNumber</th>\n",
              "      <th>Deductible</th>\n",
              "      <th>DriverRating</th>\n",
              "      <th>Year</th>\n",
              "    </tr>\n",
              "  </thead>\n",
              "  <tbody>\n",
              "    <tr>\n",
              "      <th>count</th>\n",
              "      <td>15420.000000</td>\n",
              "      <td>15420.000000</td>\n",
              "      <td>15420.000000</td>\n",
              "      <td>15420.000000</td>\n",
              "      <td>15420.000000</td>\n",
              "      <td>15420.000000</td>\n",
              "      <td>15420.000000</td>\n",
              "      <td>15420.000000</td>\n",
              "      <td>15420.000000</td>\n",
              "    </tr>\n",
              "    <tr>\n",
              "      <th>mean</th>\n",
              "      <td>2.788586</td>\n",
              "      <td>2.693969</td>\n",
              "      <td>39.855707</td>\n",
              "      <td>0.059857</td>\n",
              "      <td>7710.500000</td>\n",
              "      <td>8.483268</td>\n",
              "      <td>407.704280</td>\n",
              "      <td>2.487808</td>\n",
              "      <td>1994.866472</td>\n",
              "    </tr>\n",
              "    <tr>\n",
              "      <th>std</th>\n",
              "      <td>1.287585</td>\n",
              "      <td>1.259115</td>\n",
              "      <td>13.492377</td>\n",
              "      <td>0.237230</td>\n",
              "      <td>4451.514911</td>\n",
              "      <td>4.599948</td>\n",
              "      <td>43.950998</td>\n",
              "      <td>1.119453</td>\n",
              "      <td>0.803313</td>\n",
              "    </tr>\n",
              "    <tr>\n",
              "      <th>min</th>\n",
              "      <td>1.000000</td>\n",
              "      <td>1.000000</td>\n",
              "      <td>0.000000</td>\n",
              "      <td>0.000000</td>\n",
              "      <td>1.000000</td>\n",
              "      <td>1.000000</td>\n",
              "      <td>300.000000</td>\n",
              "      <td>1.000000</td>\n",
              "      <td>1994.000000</td>\n",
              "    </tr>\n",
              "    <tr>\n",
              "      <th>25%</th>\n",
              "      <td>2.000000</td>\n",
              "      <td>2.000000</td>\n",
              "      <td>31.000000</td>\n",
              "      <td>0.000000</td>\n",
              "      <td>3855.750000</td>\n",
              "      <td>5.000000</td>\n",
              "      <td>400.000000</td>\n",
              "      <td>1.000000</td>\n",
              "      <td>1994.000000</td>\n",
              "    </tr>\n",
              "    <tr>\n",
              "      <th>50%</th>\n",
              "      <td>3.000000</td>\n",
              "      <td>3.000000</td>\n",
              "      <td>38.000000</td>\n",
              "      <td>0.000000</td>\n",
              "      <td>7710.500000</td>\n",
              "      <td>8.000000</td>\n",
              "      <td>400.000000</td>\n",
              "      <td>2.000000</td>\n",
              "      <td>1995.000000</td>\n",
              "    </tr>\n",
              "    <tr>\n",
              "      <th>75%</th>\n",
              "      <td>4.000000</td>\n",
              "      <td>4.000000</td>\n",
              "      <td>48.000000</td>\n",
              "      <td>0.000000</td>\n",
              "      <td>11565.250000</td>\n",
              "      <td>12.000000</td>\n",
              "      <td>400.000000</td>\n",
              "      <td>3.000000</td>\n",
              "      <td>1996.000000</td>\n",
              "    </tr>\n",
              "    <tr>\n",
              "      <th>max</th>\n",
              "      <td>5.000000</td>\n",
              "      <td>5.000000</td>\n",
              "      <td>80.000000</td>\n",
              "      <td>1.000000</td>\n",
              "      <td>15420.000000</td>\n",
              "      <td>16.000000</td>\n",
              "      <td>700.000000</td>\n",
              "      <td>4.000000</td>\n",
              "      <td>1996.000000</td>\n",
              "    </tr>\n",
              "  </tbody>\n",
              "</table>\n",
              "</div>\n",
              "    <div class=\"colab-df-buttons\">\n",
              "\n",
              "  <div class=\"colab-df-container\">\n",
              "    <button class=\"colab-df-convert\" onclick=\"convertToInteractive('df-e0cb4cb1-2a05-49a7-935b-273567b14708')\"\n",
              "            title=\"Convert this dataframe to an interactive table.\"\n",
              "            style=\"display:none;\">\n",
              "\n",
              "  <svg xmlns=\"http://www.w3.org/2000/svg\" height=\"24px\" viewBox=\"0 -960 960 960\">\n",
              "    <path d=\"M120-120v-720h720v720H120Zm60-500h600v-160H180v160Zm220 220h160v-160H400v160Zm0 220h160v-160H400v160ZM180-400h160v-160H180v160Zm440 0h160v-160H620v160ZM180-180h160v-160H180v160Zm440 0h160v-160H620v160Z\"/>\n",
              "  </svg>\n",
              "    </button>\n",
              "\n",
              "  <style>\n",
              "    .colab-df-container {\n",
              "      display:flex;\n",
              "      gap: 12px;\n",
              "    }\n",
              "\n",
              "    .colab-df-convert {\n",
              "      background-color: #E8F0FE;\n",
              "      border: none;\n",
              "      border-radius: 50%;\n",
              "      cursor: pointer;\n",
              "      display: none;\n",
              "      fill: #1967D2;\n",
              "      height: 32px;\n",
              "      padding: 0 0 0 0;\n",
              "      width: 32px;\n",
              "    }\n",
              "\n",
              "    .colab-df-convert:hover {\n",
              "      background-color: #E2EBFA;\n",
              "      box-shadow: 0px 1px 2px rgba(60, 64, 67, 0.3), 0px 1px 3px 1px rgba(60, 64, 67, 0.15);\n",
              "      fill: #174EA6;\n",
              "    }\n",
              "\n",
              "    .colab-df-buttons div {\n",
              "      margin-bottom: 4px;\n",
              "    }\n",
              "\n",
              "    [theme=dark] .colab-df-convert {\n",
              "      background-color: #3B4455;\n",
              "      fill: #D2E3FC;\n",
              "    }\n",
              "\n",
              "    [theme=dark] .colab-df-convert:hover {\n",
              "      background-color: #434B5C;\n",
              "      box-shadow: 0px 1px 3px 1px rgba(0, 0, 0, 0.15);\n",
              "      filter: drop-shadow(0px 1px 2px rgba(0, 0, 0, 0.3));\n",
              "      fill: #FFFFFF;\n",
              "    }\n",
              "  </style>\n",
              "\n",
              "    <script>\n",
              "      const buttonEl =\n",
              "        document.querySelector('#df-e0cb4cb1-2a05-49a7-935b-273567b14708 button.colab-df-convert');\n",
              "      buttonEl.style.display =\n",
              "        google.colab.kernel.accessAllowed ? 'block' : 'none';\n",
              "\n",
              "      async function convertToInteractive(key) {\n",
              "        const element = document.querySelector('#df-e0cb4cb1-2a05-49a7-935b-273567b14708');\n",
              "        const dataTable =\n",
              "          await google.colab.kernel.invokeFunction('convertToInteractive',\n",
              "                                                    [key], {});\n",
              "        if (!dataTable) return;\n",
              "\n",
              "        const docLinkHtml = 'Like what you see? Visit the ' +\n",
              "          '<a target=\"_blank\" href=https://colab.research.google.com/notebooks/data_table.ipynb>data table notebook</a>'\n",
              "          + ' to learn more about interactive tables.';\n",
              "        element.innerHTML = '';\n",
              "        dataTable['output_type'] = 'display_data';\n",
              "        await google.colab.output.renderOutput(dataTable, element);\n",
              "        const docLink = document.createElement('div');\n",
              "        docLink.innerHTML = docLinkHtml;\n",
              "        element.appendChild(docLink);\n",
              "      }\n",
              "    </script>\n",
              "  </div>\n",
              "\n",
              "\n",
              "<div id=\"df-f05aa69f-d8f8-4b2e-a8b7-1748a252a3f2\">\n",
              "  <button class=\"colab-df-quickchart\" onclick=\"quickchart('df-f05aa69f-d8f8-4b2e-a8b7-1748a252a3f2')\"\n",
              "            title=\"Suggest charts\"\n",
              "            style=\"display:none;\">\n",
              "\n",
              "<svg xmlns=\"http://www.w3.org/2000/svg\" height=\"24px\"viewBox=\"0 0 24 24\"\n",
              "     width=\"24px\">\n",
              "    <g>\n",
              "        <path d=\"M19 3H5c-1.1 0-2 .9-2 2v14c0 1.1.9 2 2 2h14c1.1 0 2-.9 2-2V5c0-1.1-.9-2-2-2zM9 17H7v-7h2v7zm4 0h-2V7h2v10zm4 0h-2v-4h2v4z\"/>\n",
              "    </g>\n",
              "</svg>\n",
              "  </button>\n",
              "\n",
              "<style>\n",
              "  .colab-df-quickchart {\n",
              "      --bg-color: #E8F0FE;\n",
              "      --fill-color: #1967D2;\n",
              "      --hover-bg-color: #E2EBFA;\n",
              "      --hover-fill-color: #174EA6;\n",
              "      --disabled-fill-color: #AAA;\n",
              "      --disabled-bg-color: #DDD;\n",
              "  }\n",
              "\n",
              "  [theme=dark] .colab-df-quickchart {\n",
              "      --bg-color: #3B4455;\n",
              "      --fill-color: #D2E3FC;\n",
              "      --hover-bg-color: #434B5C;\n",
              "      --hover-fill-color: #FFFFFF;\n",
              "      --disabled-bg-color: #3B4455;\n",
              "      --disabled-fill-color: #666;\n",
              "  }\n",
              "\n",
              "  .colab-df-quickchart {\n",
              "    background-color: var(--bg-color);\n",
              "    border: none;\n",
              "    border-radius: 50%;\n",
              "    cursor: pointer;\n",
              "    display: none;\n",
              "    fill: var(--fill-color);\n",
              "    height: 32px;\n",
              "    padding: 0;\n",
              "    width: 32px;\n",
              "  }\n",
              "\n",
              "  .colab-df-quickchart:hover {\n",
              "    background-color: var(--hover-bg-color);\n",
              "    box-shadow: 0 1px 2px rgba(60, 64, 67, 0.3), 0 1px 3px 1px rgba(60, 64, 67, 0.15);\n",
              "    fill: var(--button-hover-fill-color);\n",
              "  }\n",
              "\n",
              "  .colab-df-quickchart-complete:disabled,\n",
              "  .colab-df-quickchart-complete:disabled:hover {\n",
              "    background-color: var(--disabled-bg-color);\n",
              "    fill: var(--disabled-fill-color);\n",
              "    box-shadow: none;\n",
              "  }\n",
              "\n",
              "  .colab-df-spinner {\n",
              "    border: 2px solid var(--fill-color);\n",
              "    border-color: transparent;\n",
              "    border-bottom-color: var(--fill-color);\n",
              "    animation:\n",
              "      spin 1s steps(1) infinite;\n",
              "  }\n",
              "\n",
              "  @keyframes spin {\n",
              "    0% {\n",
              "      border-color: transparent;\n",
              "      border-bottom-color: var(--fill-color);\n",
              "      border-left-color: var(--fill-color);\n",
              "    }\n",
              "    20% {\n",
              "      border-color: transparent;\n",
              "      border-left-color: var(--fill-color);\n",
              "      border-top-color: var(--fill-color);\n",
              "    }\n",
              "    30% {\n",
              "      border-color: transparent;\n",
              "      border-left-color: var(--fill-color);\n",
              "      border-top-color: var(--fill-color);\n",
              "      border-right-color: var(--fill-color);\n",
              "    }\n",
              "    40% {\n",
              "      border-color: transparent;\n",
              "      border-right-color: var(--fill-color);\n",
              "      border-top-color: var(--fill-color);\n",
              "    }\n",
              "    60% {\n",
              "      border-color: transparent;\n",
              "      border-right-color: var(--fill-color);\n",
              "    }\n",
              "    80% {\n",
              "      border-color: transparent;\n",
              "      border-right-color: var(--fill-color);\n",
              "      border-bottom-color: var(--fill-color);\n",
              "    }\n",
              "    90% {\n",
              "      border-color: transparent;\n",
              "      border-bottom-color: var(--fill-color);\n",
              "    }\n",
              "  }\n",
              "</style>\n",
              "\n",
              "  <script>\n",
              "    async function quickchart(key) {\n",
              "      const quickchartButtonEl =\n",
              "        document.querySelector('#' + key + ' button');\n",
              "      quickchartButtonEl.disabled = true;  // To prevent multiple clicks.\n",
              "      quickchartButtonEl.classList.add('colab-df-spinner');\n",
              "      try {\n",
              "        const charts = await google.colab.kernel.invokeFunction(\n",
              "            'suggestCharts', [key], {});\n",
              "      } catch (error) {\n",
              "        console.error('Error during call to suggestCharts:', error);\n",
              "      }\n",
              "      quickchartButtonEl.classList.remove('colab-df-spinner');\n",
              "      quickchartButtonEl.classList.add('colab-df-quickchart-complete');\n",
              "    }\n",
              "    (() => {\n",
              "      let quickchartButtonEl =\n",
              "        document.querySelector('#df-f05aa69f-d8f8-4b2e-a8b7-1748a252a3f2 button');\n",
              "      quickchartButtonEl.style.display =\n",
              "        google.colab.kernel.accessAllowed ? 'block' : 'none';\n",
              "    })();\n",
              "  </script>\n",
              "</div>\n",
              "\n",
              "    </div>\n",
              "  </div>\n"
            ],
            "application/vnd.google.colaboratory.intrinsic+json": {
              "type": "dataframe",
              "summary": "{\n  \"name\": \"df\",\n  \"rows\": 8,\n  \"fields\": [\n    {\n      \"column\": \"WeekOfMonth\",\n      \"properties\": {\n        \"dtype\": \"number\",\n        \"std\": 5450.829953908258,\n        \"min\": 1.0,\n        \"max\": 15420.0,\n        \"num_unique_values\": 8,\n        \"samples\": [\n          2.788586251621271,\n          3.0,\n          15420.0\n        ],\n        \"semantic_type\": \"\",\n        \"description\": \"\"\n      }\n    },\n    {\n      \"column\": \"WeekOfMonthClaimed\",\n      \"properties\": {\n        \"dtype\": \"number\",\n        \"std\": 5450.836171779896,\n        \"min\": 1.0,\n        \"max\": 15420.0,\n        \"num_unique_values\": 8,\n        \"samples\": [\n          2.693968871595331,\n          3.0,\n          15420.0\n        ],\n        \"semantic_type\": \"\",\n        \"description\": \"\"\n      }\n    },\n    {\n      \"column\": \"Age\",\n      \"properties\": {\n        \"dtype\": \"number\",\n        \"std\": 5439.200353376976,\n        \"min\": 0.0,\n        \"max\": 15420.0,\n        \"num_unique_values\": 8,\n        \"samples\": [\n          39.855706874189366,\n          38.0,\n          15420.0\n        ],\n        \"semantic_type\": \"\",\n        \"description\": \"\"\n      }\n    },\n    {\n      \"column\": \"FraudFound_P\",\n      \"properties\": {\n        \"dtype\": \"number\",\n        \"std\": 5451.727780881743,\n        \"min\": 0.0,\n        \"max\": 15420.0,\n        \"num_unique_values\": 5,\n        \"samples\": [\n          0.05985732814526589,\n          1.0,\n          0.2372300109458878\n        ],\n        \"semantic_type\": \"\",\n        \"description\": \"\"\n      }\n    },\n    {\n      \"column\": \"PolicyNumber\",\n      \"properties\": {\n        \"dtype\": \"number\",\n        \"std\": 5557.137807953998,\n        \"min\": 1.0,\n        \"max\": 15420.0,\n        \"num_unique_values\": 6,\n        \"samples\": [\n          15420.0,\n          7710.5,\n          11565.25\n        ],\n        \"semantic_type\": \"\",\n        \"description\": \"\"\n      }\n    },\n    {\n      \"column\": \"RepNumber\",\n      \"properties\": {\n        \"dtype\": \"number\",\n        \"std\": 5449.01312238147,\n        \"min\": 1.0,\n        \"max\": 15420.0,\n        \"num_unique_values\": 8,\n        \"samples\": [\n          8.483268482490272,\n          8.0,\n          15420.0\n        ],\n        \"semantic_type\": \"\",\n        \"description\": \"\"\n      }\n    },\n    {\n      \"column\": \"Deductible\",\n      \"properties\": {\n        \"dtype\": \"number\",\n        \"std\": 5320.868134174734,\n        \"min\": 43.9509979521991,\n        \"max\": 15420.0,\n        \"num_unique_values\": 6,\n        \"samples\": [\n          15420.0,\n          407.70428015564204,\n          700.0\n        ],\n        \"semantic_type\": \"\",\n        \"description\": \"\"\n      }\n    },\n    {\n      \"column\": \"DriverRating\",\n      \"properties\": {\n        \"dtype\": \"number\",\n        \"std\": 5451.05560916263,\n        \"min\": 1.0,\n        \"max\": 15420.0,\n        \"num_unique_values\": 7,\n        \"samples\": [\n          15420.0,\n          2.4878080415045396,\n          3.0\n        ],\n        \"semantic_type\": \"\",\n        \"description\": \"\"\n      }\n    },\n    {\n      \"column\": \"Year\",\n      \"properties\": {\n        \"dtype\": \"number\",\n        \"std\": 4897.155485967318,\n        \"min\": 0.8033131537726312,\n        \"max\": 15420.0,\n        \"num_unique_values\": 6,\n        \"samples\": [\n          15420.0,\n          1994.8664721141374,\n          1996.0\n        ],\n        \"semantic_type\": \"\",\n        \"description\": \"\"\n      }\n    }\n  ]\n}"
            }
          },
          "metadata": {},
          "execution_count": 18
        }
      ]
    },
    {
      "cell_type": "code",
      "source": [
        "# Check for missing values\n",
        "df.isnull().sum()"
      ],
      "metadata": {
        "execution": {
          "iopub.status.busy": "2024-04-04T15:26:49.491741Z",
          "iopub.execute_input": "2024-04-04T15:26:49.492231Z",
          "iopub.status.idle": "2024-04-04T15:26:49.545551Z",
          "shell.execute_reply.started": "2024-04-04T15:26:49.492195Z",
          "shell.execute_reply": "2024-04-04T15:26:49.544022Z"
        },
        "trusted": true,
        "id": "zbQ1JfaYOvuD",
        "outputId": "5b66a821-bcb3-4139-8eba-7367b5258488",
        "colab": {
          "base_uri": "https://localhost:8080/"
        }
      },
      "execution_count": 19,
      "outputs": [
        {
          "output_type": "execute_result",
          "data": {
            "text/plain": [
              "Month                   0\n",
              "WeekOfMonth             0\n",
              "DayOfWeek               0\n",
              "Make                    0\n",
              "AccidentArea            0\n",
              "DayOfWeekClaimed        0\n",
              "MonthClaimed            0\n",
              "WeekOfMonthClaimed      0\n",
              "Sex                     0\n",
              "MaritalStatus           0\n",
              "Age                     0\n",
              "Fault                   0\n",
              "PolicyType              0\n",
              "VehicleCategory         0\n",
              "VehiclePrice            0\n",
              "FraudFound_P            0\n",
              "PolicyNumber            0\n",
              "RepNumber               0\n",
              "Deductible              0\n",
              "DriverRating            0\n",
              "Days_Policy_Accident    0\n",
              "Days_Policy_Claim       0\n",
              "PastNumberOfClaims      0\n",
              "AgeOfVehicle            0\n",
              "AgeOfPolicyHolder       0\n",
              "PoliceReportFiled       0\n",
              "WitnessPresent          0\n",
              "AgentType               0\n",
              "NumberOfSuppliments     0\n",
              "AddressChange_Claim     0\n",
              "NumberOfCars            0\n",
              "Year                    0\n",
              "BasePolicy              0\n",
              "dtype: int64"
            ]
          },
          "metadata": {},
          "execution_count": 19
        }
      ]
    },
    {
      "cell_type": "code",
      "source": [
        "#Checking for duplicate values\n",
        "df.duplicated().sum()"
      ],
      "metadata": {
        "execution": {
          "iopub.status.busy": "2024-04-04T15:26:49.612831Z",
          "iopub.execute_input": "2024-04-04T15:26:49.613303Z",
          "iopub.status.idle": "2024-04-04T15:26:49.669936Z",
          "shell.execute_reply.started": "2024-04-04T15:26:49.61327Z",
          "shell.execute_reply": "2024-04-04T15:26:49.668525Z"
        },
        "trusted": true,
        "id": "mYCWze21OvuD",
        "outputId": "4ebcdb3b-d7c8-4300-da6a-f0965b93f0d8",
        "colab": {
          "base_uri": "https://localhost:8080/"
        }
      },
      "execution_count": 20,
      "outputs": [
        {
          "output_type": "execute_result",
          "data": {
            "text/plain": [
              "0"
            ]
          },
          "metadata": {},
          "execution_count": 20
        }
      ]
    },
    {
      "cell_type": "markdown",
      "source": [
        "<a id = '1.2'></a>\n",
        "<p style = \"font-size : 25px; font-family : 'Poppins'; border-radius: 10px;\"><strong>Data Visualization</strong></p>"
      ],
      "metadata": {
        "id": "pYPtYVkfOvuD"
      }
    },
    {
      "cell_type": "code",
      "source": [
        "df = df.rename(columns={'FraudFound_P': 'FraudFound'})\n",
        "\n",
        "# Check how many records are fraud and plot pie chart\n",
        "labels = df.FraudFound.value_counts().index\n",
        "labels = [\"No\" if i==0 else \"Yes\" for i in labels]\n",
        "sizes = df.FraudFound.value_counts().values\n",
        "\n",
        "\n",
        "plt.figure(figsize=(8, 6))\n",
        "plt.pie(sizes, labels=labels, autopct='%1.1f%%', startangle=140,explode=[0.05,0])\n",
        "plt.title('Claims detected as Fraud')\n",
        "plt.axis('equal')\n",
        "plt.show()"
      ],
      "metadata": {
        "execution": {
          "iopub.status.busy": "2024-04-04T15:26:49.735458Z",
          "iopub.execute_input": "2024-04-04T15:26:49.735949Z",
          "iopub.status.idle": "2024-04-04T15:26:49.923575Z",
          "shell.execute_reply.started": "2024-04-04T15:26:49.735889Z",
          "shell.execute_reply": "2024-04-04T15:26:49.921292Z"
        },
        "trusted": true,
        "id": "0z0c7dLJOvuD",
        "outputId": "30791deb-3539-4b6b-801c-d5c026eeaa75",
        "colab": {
          "base_uri": "https://localhost:8080/",
          "height": 522
        }
      },
      "execution_count": 21,
      "outputs": [
        {
          "output_type": "display_data",
          "data": {
            "text/plain": [
              "<Figure size 800x600 with 1 Axes>"
            ],
            "image/png": "[encoded data removed]"
          },
          "metadata": {}
        }
      ]
    },
    {
      "cell_type": "markdown",
      "source": [
        "***Only 6% of the claims reported as fraud. As it was expected, the dataset is imbalanced***"
      ],
      "metadata": {
        "id": "mc9V8E5oOvuD"
      }
    },
    {
      "cell_type": "markdown",
      "source": [
        "### I'll Show how many claims in the data are actually fraud from each vehicle category (Seden, Sport, Utility):"
      ],
      "metadata": {
        "id": "JBZBV5SZOvuE"
      }
    },
    {
      "cell_type": "code",
      "source": [
        "# Filter the data for all claims that are Fraud\n",
        "df_fraud = df[df['FraudFound'] == 1]\n",
        "# Count the number claims in each vehicle category\n",
        "fraud_counts = df_fraud['VehicleCategory'].value_counts()\n",
        "fraud_counts.plot(kind='bar')\n",
        "plt.show()\n"
      ],
      "metadata": {
        "execution": {
          "iopub.status.busy": "2024-04-04T15:26:49.92655Z"
        },
        "trusted": true,
        "id": "3TJmnSvaOvuE",
        "outputId": "64f6f816-5d98-43b1-9c5a-d95294f94fe4",
        "colab": {
          "base_uri": "https://localhost:8080/",
          "height": 483
        }
      },
      "execution_count": 22,
      "outputs": [
        {
          "output_type": "display_data",
          "data": {
            "text/plain": [
              "<Figure size 640x480 with 1 Axes>"
            ],
            "image/png": "[encoded data removed]"
          },
          "metadata": {}
        }
      ]
    },
    {
      "cell_type": "markdown",
      "source": [
        "***The majority of fraud claims are of sedan cars.***\n"
      ],
      "metadata": {
        "id": "7TxtP82YOvuE"
      }
    },
    {
      "cell_type": "code",
      "source": [
        "# Explore age distribution in general and in fraud records\n",
        "\n",
        "plt.figure(figsize=(10, 5))\n",
        "# Age histogram\n",
        "plt.subplot(1, 2, 1)\n",
        "plt.hist(df['Age'], bins=10, edgecolor='black')\n",
        "plt.xlabel('Age')\n",
        "plt.ylabel('Frequency')\n",
        "plt.title('Age Histogram')\n",
        "\n",
        "\n",
        "mapping_dict = {\n",
        "    '16 to 17': '16-17',\n",
        "    '18 to 20': '18-20',\n",
        "    '21 to 25': '21-25',\n",
        "    '26 to 30': '26-30',\n",
        "    '31 to 35': '31-35',\n",
        "    '36 to 40': '36-40',\n",
        "    '41 to 50': '41-50',\n",
        "    '51 to 65': '51-65',\n",
        "    'over 65': '65+'\n",
        "}\n",
        "\n",
        "# Replace values in the DataFrame column\n",
        "df['AgeOfPolicyHolder'] = df['AgeOfPolicyHolder'].replace(mapping_dict)\n",
        "\n",
        "# Frauds Per Policy Holder Age Group histogram\n",
        "plt.subplot(1, 2, 2)\n",
        "policyAge = df.groupby('AgeOfPolicyHolder')['FraudFound'].sum()\n",
        "bars = plt.bar(policyAge.index, policyAge.values, edgecolor='black')\n",
        "plt.title(\"Frauds Per Policy Holder Age Group\")\n",
        "plt.xlabel(\"Policy Holder Age Group\")\n",
        "plt.ylabel(\"Number Of Fraud Claims\")\n",
        "plt.xticks(rotation=45, ha='right')\n",
        "\n",
        "\n",
        "plt.tight_layout()\n",
        "plt.show()\n"
      ],
      "metadata": {
        "trusted": true,
        "id": "5RHu3FpxOvuE"
      },
      "execution_count": null,
      "outputs": []
    },
    {
      "cell_type": "markdown",
      "source": [
        "***We can notice that there are few records (less than 500) that the age is less than 10, probably missing data got 0 value. We will rtake care of it later***\n"
      ],
      "metadata": {
        "id": "gSkfOqAuOvuE"
      }
    },
    {
      "cell_type": "code",
      "source": [
        "#Frauds per Car Make\n",
        "make_frauds = df.groupby('Make')['FraudFound'].sum()\n",
        "make_frauds = make_frauds.sort_values(ascending=False)\n",
        "\n",
        "norm = plt.Normalize(make_frauds.min(), make_frauds.max())\n",
        "colors = plt.cm.coolwarm(norm(make_frauds.values))\n",
        "\n",
        "plt.figure(figsize=(20, 8))\n",
        "bars = plt.bar(make_frauds.index, make_frauds.values, color=colors)\n",
        "plt.title(\"Frauds per Car Make\")\n",
        "plt.xlabel(\"Car Make\")\n",
        "plt.ylabel(\"Fraud Claims\")\n",
        "\n",
        "\n",
        "sm = plt.cm.ScalarMappable(cmap='coolwarm', norm=norm)\n",
        "sm.set_array([])\n",
        "cbar = plt.colorbar(sm)\n",
        "plt.xticks(rotation=45, ha='right')\n",
        "plt.tight_layout()\n",
        "plt.show()\n",
        "\n",
        "\n",
        "#Car make count\n",
        "make_car = df['Make'].value_counts()\n",
        "plt.figure(figsize=(20, 8))\n",
        "bars = plt.bar(make_car.index, make_car.values, color=colors)\n",
        "plt.title(\"Car make count\")\n",
        "plt.xlabel(\"Car Make\")\n",
        "plt.ylabel(\"Fraud Claims\")\n",
        "\n",
        "\n",
        "sm = plt.cm.ScalarMappable(cmap='coolwarm', norm=norm)\n",
        "sm.set_array([])\n",
        "cbar = plt.colorbar(sm)\n",
        "plt.xticks(rotation=45, ha='right')\n",
        "plt.tight_layout()\n",
        "plt.show()"
      ],
      "metadata": {
        "trusted": true,
        "id": "ZINb5uQUOvuE"
      },
      "execution_count": null,
      "outputs": []
    },
    {
      "cell_type": "markdown",
      "source": [
        "* ***On the first graph We can see that for luxury cars like Jaguar Ferrari and Porche there are few to zero evidence of frauds, while the majority of fraudclaims are for car makes like Toyota, Honda and pontiac.***\n",
        "* ***On the second graph we can see that the total numbers of claims for the luxury cars is low from beginning.***\n"
      ],
      "metadata": {
        "id": "-5LoGJ52OvuE"
      }
    },
    {
      "cell_type": "code",
      "source": [
        "# Pie Chart to see Fraud records by sex(male/female)\n",
        "fraud_by_sex = df[df['FraudFound'] == 1].groupby('Sex').size()\n",
        "fig, ax = plt.subplots()\n",
        "ax.pie(fraud_by_sex, labels=fraud_by_sex.index, autopct='%1.1f%%', startangle=180, explode=[0.05,0])\n",
        "ax.axis('equal')\n",
        "ax.set_title('Fraud Cases by Sex')\n",
        "\n",
        "plt.show()"
      ],
      "metadata": {
        "trusted": true,
        "id": "riiJSD6uOvuF"
      },
      "execution_count": null,
      "outputs": []
    },
    {
      "cell_type": "code",
      "source": [
        "# Plot of Accident Area by sex for fraud cases\n",
        "sns.countplot(data=df[df['FraudFound'] == 1], x='AccidentArea', hue='Sex')\n",
        "plt.title('Region Distribution by Sex')\n",
        "plt.xlabel('AccidentArea')\n",
        "plt.ylabel('Count')\n",
        "plt.legend(title='Sex')\n",
        "plt.show()\n"
      ],
      "metadata": {
        "trusted": true,
        "id": "5WQx14yROvuF"
      },
      "execution_count": null,
      "outputs": []
    },
    {
      "cell_type": "code",
      "source": [
        "# Plot Fraud cases by fault - policy holder/third party\n",
        "fraud_by_fault_fraud = df[df['FraudFound'] == 1].groupby('Fault').size()\n",
        "fig, axs = plt.subplots(1, 2, figsize=(12, 6))\n",
        "\n",
        "# Plot 1 - Fraud Cases by Fault\n",
        "axs[0].pie(fraud_by_fault_fraud, labels=fraud_by_fault_fraud.index, autopct='%1.1f%%', explode=[0.05,0])\n",
        "axs[0].axis('equal')\n",
        "axs[0].set_title('Fraud Cases by Fault')\n",
        "\n",
        "# Plot All cases by fault - policy holder/third party\n",
        "fraud_by_fault_all = df.groupby('Fault').size()\n",
        "\n",
        "\n",
        "fraud_by_fault_all = fraud_by_fault_all.reindex(fraud_by_fault_fraud.index, fill_value=0)\n",
        "\n",
        "# Plot 2 - All Cases by Fault\n",
        "axs[1].pie(fraud_by_fault_all, labels=fraud_by_fault_all.index, autopct='%1.1f%%',explode=[0.05,0])\n",
        "axs[1].axis('equal')\n",
        "axs[1].set_title('All Cases by Fault')\n",
        "\n",
        "plt.tight_layout()\n",
        "plt.show()"
      ],
      "metadata": {
        "trusted": true,
        "id": "bL8z--dyOvuF"
      },
      "execution_count": null,
      "outputs": []
    },
    {
      "cell_type": "markdown",
      "source": [
        "***We can see that most of fraud cases where claimed by the policy holder***"
      ],
      "metadata": {
        "id": "OVv4ywu7OvuF"
      }
    },
    {
      "cell_type": "code",
      "source": [
        "fraud_by_cars = df[df['FraudFound'] == 1].groupby('NumberOfCars').size()\n",
        "fig, ax = plt.subplots()\n",
        "ax.bar(fraud_by_cars.index.astype(str), fraud_by_cars)\n",
        "ax.set_xlabel('Number of Cars')\n",
        "ax.set_ylabel('Number of Fraud Cases')\n",
        "ax.set_title('Fraud Cases by number of cars')\n",
        "\n",
        "plt.show()"
      ],
      "metadata": {
        "trusted": true,
        "id": "-4pSiiq3OvuF"
      },
      "execution_count": null,
      "outputs": []
    },
    {
      "cell_type": "markdown",
      "source": [
        "<a id = '1.3'></a>\n",
        "<p style = \"font-size : 25px; font-family : 'Poppins'; border-radius: 10px;\"><strong>Handling Missing Values</strong></p>\n"
      ],
      "metadata": {
        "id": "6lTbVTWpOvuF"
      }
    },
    {
      "cell_type": "markdown",
      "source": [
        "**First we will see all unique values**"
      ],
      "metadata": {
        "id": "qs3ZlhfpOvuF"
      }
    },
    {
      "cell_type": "code",
      "source": [
        "# get rid of policy number column\n",
        "df.drop(columns=['PolicyNumber'], inplace=True)"
      ],
      "metadata": {
        "trusted": true,
        "id": "0Z_O93G5OvuG"
      },
      "execution_count": null,
      "outputs": []
    },
    {
      "cell_type": "code",
      "source": [
        "def get_unique_values_df(df):\n",
        "    \"\"\"\n",
        "    Generate a DataFrame displaying unique values for each column in the input DataFrame.\n",
        "\n",
        "    Parameters:\n",
        "    df (DataFrame): Input DataFrame containing data.\n",
        "\n",
        "    Returns:\n",
        "    DataFrame: DataFrame with columns 'Column Name' and 'Unique Values'.\n",
        "    \"\"\"\n",
        "    pd.set_option('max_colwidth', None)\n",
        "    data = []\n",
        "    for column in df:\n",
        "        unique_values = ', '.join(map(str, df[column].unique()))\n",
        "        data.append([column, unique_values])\n",
        "\n",
        "    # Create a new DataFrame to display the unique values\n",
        "    unique_values_df = pd.DataFrame(data, columns=['Column Name', 'Unique Values'])\n",
        "    return unique_values_df\n",
        "\n",
        "\n",
        "\n",
        "\n",
        "\n",
        "\n",
        "\n",
        "get_unique_values_df(df)"
      ],
      "metadata": {
        "trusted": true,
        "id": "Yem1GqHHOvuG"
      },
      "execution_count": null,
      "outputs": []
    },
    {
      "cell_type": "markdown",
      "source": [
        "**We can notice:**\n",
        "* DayOfWeekClaimed - contains a 0 instead of a day of the week\n",
        "* MonthClaimed - contains a 0 instead of the month\n",
        "* Age - contains a 0 instead of the age\n",
        "* PolicyType - appears to be a concatenation of VehicleCategory and BasePolicy"
      ],
      "metadata": {
        "id": "TZsb8XowOvuG"
      }
    },
    {
      "cell_type": "code",
      "source": [
        "#Investigate the 0 in DayOfWeekClaimed and MonthClaimed\n",
        "print('DayOfWeekClaimed has ', len(df.loc[(df['DayOfWeekClaimed']=='0')]), ' row(s) with a 0')\n",
        "print('MonthClaimed has ',len(df.loc[(df['MonthClaimed']=='0')]),' row(s) with a 0\\n')\n",
        "\n",
        "\n",
        "# Idendtify which row effected\n",
        "print('Row ', df.loc[(df['DayOfWeekClaimed']=='0')].index[0], ' has 0 value in DayOfWeekClaimed')\n",
        "print('Row ', df.loc[(df['MonthClaimed']=='0')].index[0], ' has 0 value in MonthClaimed')\n",
        "\n",
        "# Both are zero in the same row (row 1516).\n",
        "\n",
        "# we will drop this row\n",
        "df = df.loc[df['DayOfWeekClaimed']!='0']\n"
      ],
      "metadata": {
        "trusted": true,
        "id": "e8UUNSSwOvuG"
      },
      "execution_count": null,
      "outputs": []
    },
    {
      "cell_type": "markdown",
      "source": [
        "**Now we have to take care of the 0 value on the Age category**"
      ],
      "metadata": {
        "id": "V1KcFSrJOvuG"
      }
    },
    {
      "cell_type": "code",
      "source": [
        "# There are 319 records where the age is 0. out of them 30 records are frauds, I will replace the 0 with the AgeOfPolicyHolder\n",
        "print('There are ', len(df[df['Age']==0]), 'records where the age is 0')\n",
        "\n",
        "# For all this rows policy holder age  is between 16 and 17 years old.\n",
        "print('For all this rows policy holder age is: ', df.loc[(df['Age']==0),'AgeOfPolicyHolder'].unique())"
      ],
      "metadata": {
        "trusted": true,
        "id": "vdRLya-0OvuG"
      },
      "execution_count": null,
      "outputs": []
    },
    {
      "cell_type": "code",
      "source": [
        "df[df['Age'] == 0][['Age', 'AgeOfPolicyHolder']]"
      ],
      "metadata": {
        "trusted": true,
        "id": "k7PYeznDOvuG"
      },
      "execution_count": null,
      "outputs": []
    },
    {
      "cell_type": "markdown",
      "source": [
        "<a id = '1.4'></a>\n",
        "<p style = \"font-size : 25px; font-family : 'Poppins'; border-radius: 10px;\"><strong>Normalization</strong></p>\n"
      ],
      "metadata": {
        "id": "bvhkV-1cOvuG"
      }
    },
    {
      "cell_type": "code",
      "source": [
        "# I Will replace all 0 values with 16 or 17 randomly\n",
        "random_ages = np.random.choice([16, 17], size=df['Age'].eq(0).sum())\n",
        "df.loc[df['Age'] == 0, 'Age'] = random_ages\n",
        "\n",
        "print('Now there are ', len(df[df['Age']==0]), 'records where the age is 0')\n"
      ],
      "metadata": {
        "trusted": true,
        "id": "fMvHePKfOvuH"
      },
      "execution_count": null,
      "outputs": []
    },
    {
      "cell_type": "markdown",
      "source": [
        "**Iv'e noticed that the policy type is concatenation of the VehicleCategory and the BasePolicy, for now we will drop this column.**"
      ],
      "metadata": {
        "id": "6TlyBWwfOvuH"
      }
    },
    {
      "cell_type": "code",
      "source": [
        "# df.drop(columns=['PolicyType'], inplace=True)"
      ],
      "metadata": {
        "trusted": true,
        "id": "INCS_xJNOvuH"
      },
      "execution_count": null,
      "outputs": []
    },
    {
      "cell_type": "markdown",
      "source": [
        "<a id = '1.5'></a>\n",
        "<p style = \"font-size : 25px; font-family : 'Poppins'; border-radius: 10px;\"><strong>Creating New Features:</strong></p>\n"
      ],
      "metadata": {
        "id": "qILbxB6gOvuH"
      }
    },
    {
      "cell_type": "code",
      "source": [
        "#I will create bins for the age group: 'Young', 'Middle-Aged', 'Senior'\n",
        "age_groups = {\n",
        "    '16-17': 'Young',\n",
        "    '18-20': 'Young',\n",
        "    '21-25': 'Young',\n",
        "    '26-30': 'Young',\n",
        "    '31-35': 'Middle-aged',\n",
        "    '36-40': 'Middle-aged',\n",
        "    '41-50': 'Middle-aged',\n",
        "    '51-65': 'Senior',\n",
        "    '65+': 'Senior'\n",
        "}\n",
        "df['AgeGroup'] = df['AgeOfPolicyHolder'].map(age_groups)\n",
        "df.drop(columns=['AgeOfPolicyHolder'], inplace=True)\n",
        "\n",
        "# Function to categorize ranges\n",
        "def categorize_range(value):\n",
        "    if value == 'less than 20000':\n",
        "        return 'low'\n",
        "    elif value in ['20000 to 29000', '30000 to 39000']:\n",
        "        return 'mid'\n",
        "    elif value in ['40000 to 59000', '60000 to 69000', 'more than 69000']:\n",
        "        return 'high'\n",
        "    else:\n",
        "        return 'mid'  # or handle as needed\n",
        "\n",
        "# Apply categorization to DataFrame\n",
        "df['VehiclePrice_Cat'] = df['VehiclePrice'].apply(categorize_range)\n"
      ],
      "metadata": {
        "trusted": true,
        "id": "mJXl_-UxOvuI"
      },
      "execution_count": null,
      "outputs": []
    },
    {
      "cell_type": "markdown",
      "source": [
        "<a id = '1.6'></a>\n",
        "<p style = \"font-size : 25px; font-family : 'Poppins'; border-radius: 10px;\"><strong> Label Encoding:</strong></p>\n"
      ],
      "metadata": {
        "id": "VcWxvZwYOvuI"
      }
    },
    {
      "cell_type": "code",
      "source": [
        "# Initialize LabelEncoder for encoding categorical columns\n",
        "label_encoder = LabelEncoder()\n",
        "\n",
        "# Define mappings for ordinal encoding\n",
        "col_ordering = [\n",
        "    {'col':'PastNumberOfClaims','mapping':{'none':0 ,'1':1,'2 to 4':3,'more than 4':5 }},\n",
        "    {'col':'NumberOfSuppliments','mapping':{'none':0,'1 to 2':1,'3 to 5':3,'more than 5':6}},\n",
        "    {'col':'VehiclePrice','mapping':{'more than 69000':5,'20000 to 29000':1,'30000 to 39000':2,'less than 20000':0,\n",
        "                                     '40000 to 59000':3,'60000 to 69000':4}},\n",
        "    {'col':'AgeOfVehicle','mapping':{'new': 0, '2 years': 1, '3 years': 2, '4 years': 3, '5 years': 4, '6 years': 5, '7 years': 6, 'more than 7': 7}},\n",
        "    {'col':'Year','mapping': {1994: 0, 1995: 1, 1996: 2}},\n",
        "    {'col':'Days_Policy_Accident','mapping': {'none': 0, '1 to 7': 1,'8 to 15': 2,'15 to 30': 3, 'more than 30': 4}},\n",
        "    {'col':'Days_Policy_Claim','mapping': {'none': 0, '1 to 7': 1,'8 to 15': 2,'15 to 30': 3, 'more than 30':4 }},\n",
        "    {'col':'AddressChange_Claim','mapping': {'1 year': 1, 'no change': 0, '4 to 8 years': 4, '2 to 3 years': 2, 'under 6 months': 0.5}},\n",
        "    {'col':'AgeGroup','mapping': {'Young': 0, 'Middle-aged': 1, 'Senior': 2}},\n",
        "    {'col':'VehiclePrice_Cat','mapping': {'high': 2, 'mid': 1, 'low': 0}},\n",
        "    {'col':'NumberOfCars','mapping': {'3 to 4': 3, '1 vehicle': 1, '2 vehicles': 2, '5 to 8': 7, 'more than 8': 9}},\n",
        "]\n",
        "ord_encoder = OrdinalEncoder(mapping = col_ordering, return_df=True)\n",
        "\n",
        "df = ord_encoder.fit_transform(df)\n",
        "\n",
        "\n",
        "\n",
        "# Encode remaining categorical columns using LabelEncoder\n",
        "for col in df.columns:\n",
        "    if df[col].dtype == 'object':  # Check if the column is categorical\n",
        "        df[col] = label_encoder.fit_transform(df[col])\n",
        "\n",
        "\n",
        "# see how the unique  data in the dataframe look like\n",
        "get_unique_values_df(df)"
      ],
      "metadata": {
        "trusted": true,
        "id": "AtEbHykrOvuI"
      },
      "execution_count": null,
      "outputs": []
    },
    {
      "cell_type": "markdown",
      "source": [
        "<a id = '1.7'></a>\n",
        "<p style = \"font-size : 25px; font-family : 'Poppins'; border-radius: 10px;\"><strong>Handling Imbalanced Data</strong></p>\n"
      ],
      "metadata": {
        "id": "TT9YH0wOOvuI"
      }
    },
    {
      "cell_type": "markdown",
      "source": [
        "**We have seen that the data is imbalanced as the total cases of fraud are around 6%. I will use resample technique to make the data balanced**"
      ],
      "metadata": {
        "id": "nrxdCGiQOvuI"
      }
    },
    {
      "cell_type": "code",
      "source": [
        "# We can see that the data is imbalanced\n",
        "print('Number of records not  commited fraud: ',len(df[df['FraudFound']==0]))\n",
        "print('Number of records commited fraud: ',len(df[df['FraudFound']==1]))\n",
        "print('The total number of records is: ', len(df))"
      ],
      "metadata": {
        "trusted": true,
        "id": "e3SfWRWTOvuI"
      },
      "execution_count": null,
      "outputs": []
    },
    {
      "cell_type": "markdown",
      "source": [
        "Split the data into train, test:"
      ],
      "metadata": {
        "id": "K7I1NBjfOvuI"
      }
    },
    {
      "cell_type": "code",
      "source": [
        "X = df.drop(columns = 'FraudFound', axis = 1)\n",
        "y = df.FraudFound\n",
        "\n",
        "# Split the data into 80% training and 20% testing\n",
        "X_train, X_test, y_train, y_test = train_test_split(X, y, test_size=0.2, random_state=42)"
      ],
      "metadata": {
        "trusted": true,
        "id": "6Qn8UQq6OvuJ"
      },
      "execution_count": null,
      "outputs": []
    },
    {
      "cell_type": "markdown",
      "source": [
        "**Apply SMOTE - Synthetic Minority Oversampling Technique:**"
      ],
      "metadata": {
        "id": "xd6xG5B_OvuJ"
      }
    },
    {
      "cell_type": "code",
      "source": [
        "#Apply SMOTE to the training data:\n",
        "smote = SMOTE(random_state=42)\n",
        "X_train_resampled, y_train_resampled = smote.fit_resample(X_train, y_train)"
      ],
      "metadata": {
        "trusted": true,
        "id": "T1smz08ZOvuJ"
      },
      "execution_count": null,
      "outputs": []
    },
    {
      "cell_type": "markdown",
      "source": [
        "<a id = '1.8'></a>\n",
        "<p style = \"font-size : 25px; font-family : 'Poppins'; border-radius: 10px;\"><strong>Features Selection</strong></p>\n",
        "Here I want to see the basic correlation between all feature to the target feature"
      ],
      "metadata": {
        "id": "1I6zJSeUOvuJ"
      }
    },
    {
      "cell_type": "code",
      "source": [
        "# let's explore the simple piercon correlation of all features regarding the target value\n",
        "corr_map = df.corr()['FraudFound'].abs().sort_values(ascending=False)\n",
        "corr_map"
      ],
      "metadata": {
        "trusted": true,
        "id": "Z4mmiBugOvuJ"
      },
      "execution_count": null,
      "outputs": []
    },
    {
      "cell_type": "code",
      "source": [
        "corr_matrix = df.corr()\n",
        "correlation_threshold = 0.05\n",
        "# Filter features based on correlation threshold\n",
        "relevant_features = corr_map[corr_map >= correlation_threshold].index.tolist()\n",
        "\n",
        "df_filtered = df[relevant_features]\n",
        "corr_matrix_filtered = df_filtered.corr()\n",
        "\n",
        "plt.figure(figsize=(12, 10))\n",
        "sns.heatmap(corr_matrix_filtered, annot=True, cmap='coolwarm', linewidths=.5)\n",
        "plt.title('Correlation Heatmap')\n",
        "plt.show()"
      ],
      "metadata": {
        "trusted": true,
        "id": "aMJSum2DOvuJ"
      },
      "execution_count": null,
      "outputs": []
    },
    {
      "cell_type": "markdown",
      "source": [
        "**here I create feature selection function with random forest classifier. We will use it later in the models avaluation.**"
      ],
      "metadata": {
        "id": "a2QuBiLSOvuK"
      }
    },
    {
      "cell_type": "code",
      "source": [
        "def select_features_rf(X, y, num_features=12, n_estimators=100, random_state=42):\n",
        "    \"\"\"\n",
        "    Perform feature selection using Random Forest classifier.\n",
        "\n",
        "    Parameters:\n",
        "    - X: DataFrame or array-like, features\n",
        "    - y: Series or array-like, target variable\n",
        "    - n_estimators: int, optional (default=100), number of trees in the forest\n",
        "    - num_features: int number of relevant features -deafult 12\n",
        "\n",
        "    Returns:\n",
        "    - selected_features: List of selected relevant features\n",
        "    \"\"\"\n",
        "    # Initialize Random Forest classifier\n",
        "    rf_clf = RandomForestClassifier(n_estimators=n_estimators, max_features='auto', random_state=random_state)\n",
        "\n",
        "\n",
        "    rf_clf.fit(X, y)\n",
        "\n",
        "    # Get feature importances\n",
        "    feature_importances = rf_clf.feature_importances_\n",
        "\n",
        "    # Create DataFrame of feature importances\n",
        "    feat_importance_df = pd.DataFrame({'Feature': X.columns, 'Importance': feature_importances})\n",
        "\n",
        "    # Sort features by importance\n",
        "    feat_importance_df = feat_importance_df.sort_values(by='Importance', ascending=False)\n",
        "\n",
        "    # Select top features (adjust as needed)\n",
        "    selected_features = feat_importance_df.loc[feat_importance_df['Importance'] > 0.01, 'Feature'].tolist()[:num_features]\n",
        "\n",
        "    return selected_features\n"
      ],
      "metadata": {
        "trusted": true,
        "id": "WiGGFsW2OvuK"
      },
      "execution_count": null,
      "outputs": []
    },
    {
      "cell_type": "markdown",
      "source": [
        "## Example of the features selected"
      ],
      "metadata": {
        "id": "2vqo8plHOvuK"
      }
    },
    {
      "cell_type": "code",
      "source": [
        "selected_features = select_features_rf(X_train_resampled, y_train_resampled)\n",
        "selected_features"
      ],
      "metadata": {
        "trusted": true,
        "id": "xGcoMUMBOvuK"
      },
      "execution_count": null,
      "outputs": []
    },
    {
      "cell_type": "markdown",
      "source": [
        "<a id = '2.0'></a>\n",
        "<p style = \"font-size : 35px; font-family : 'Poppins'; border-radius: 10px;\"><strong>Models</strong></p>\n"
      ],
      "metadata": {
        "id": "ScGlrTKdOvuK"
      }
    },
    {
      "cell_type": "markdown",
      "source": [
        "## I decided to use 5 classification/regression models:\n",
        "* Logistic Regression\n",
        "* Random Forest Classifier\n",
        "* Gaussian Naive Bayes\n",
        "* Decision Tree Classifier\n",
        "* Gradient Boosting Classifier"
      ],
      "metadata": {
        "id": "ZYeWZebsOvuK"
      }
    },
    {
      "cell_type": "code",
      "source": [
        "models_to_test = {\n",
        "    'LogisticRegression': LogisticRegression,\n",
        "    'RandomForestClassifier': RandomForestClassifier,\n",
        "    'GaussianNB': GaussianNB,\n",
        "    'DecisionTreeClassifier': DecisionTreeClassifier,\n",
        "    'GradientBoostingClassifier': GradientBoostingClassifier\n",
        "}"
      ],
      "metadata": {
        "trusted": true,
        "id": "rSBn7L4JOvuL"
      },
      "execution_count": null,
      "outputs": []
    },
    {
      "cell_type": "markdown",
      "source": [
        "# **Here I define the main function. It will compare all the selected models. we can use cross validation, feature selection and hypermarams tuning:**"
      ],
      "metadata": {
        "id": "jTyKwOV3OvuL"
      }
    },
    {
      "cell_type": "code",
      "source": [
        "def run_models_and_evaluate(X, y, models, hyperparameters=None, feature_set=None, use_cross_val=False):\n",
        "    \"\"\"\n",
        "    Train and evaluate machine learning models using specified hyperparameters and feature sets.\n",
        "\n",
        "    Parameters:\n",
        "    - X: DataFrame or array-like, features\n",
        "    - y: Series or array-like, target variable\n",
        "    - models: dict, key-value pairs of model names and corresponding model classes\n",
        "    - hyperparameters: dict, optional, key-value pairs of model names and hyperparameter dict\n",
        "    - feature_set: tuple, optional, key-value pairs of feature set names and corresponding feature list\n",
        "    - use_cross_val: bool, optional, whether to use 10-fold cross-validation for evaluation (default=False)\n",
        "\n",
        "    Returns:\n",
        "    - results: list of dictionaries containing model evaluation results\n",
        "    \"\"\"\n",
        "    results = []\n",
        "\n",
        "    # Check if hyperparameters and feature sets are provided\n",
        "    if hyperparameters is None:\n",
        "        hyperparameters = {model_name: {} for model_name in models}\n",
        "        # Set random_state=42 for RandomForestClassifier and DecisionTreeClassifier\n",
        "        for model_name in hyperparameters:\n",
        "            if model_name in ['RandomForestClassifier', 'DecisionTreeClassifier']:\n",
        "                hyperparameters[model_name]['random_state'] = 42\n",
        "    if feature_set is None:\n",
        "        feature_set = ('All Features', list(X.columns))\n",
        "    feature_set_name, featureset = feature_set[0], feature_set[1]\n",
        "\n",
        "\n",
        "    # Iterate over models, hyperparameters, and feature sets\n",
        "    for model_name, model in models.items():\n",
        "        # Get the hyperparameters dictionary\n",
        "        params = hyperparameters.get(model_name, {})\n",
        "        if use_cross_val:\n",
        "            kf = KFold(n_splits=10, shuffle=True, random_state=42)\n",
        "            accuracies = []\n",
        "            precisions = []\n",
        "            recalls = []\n",
        "            times = []\n",
        "            for train_idx, test_idx in kf.split(X):\n",
        "                X_train, X_test = X.iloc[train_idx], X.iloc[test_idx]\n",
        "                y_train, y_test = y.iloc[train_idx], y.iloc[test_idx]\n",
        "\n",
        "                model_instance = model(**params)\n",
        "\n",
        "                start_time = time.time()\n",
        "                model_instance.fit(X_train[featureset], y_train)\n",
        "                train_time = time.time() - start_time\n",
        "\n",
        "                start_time = time.time()\n",
        "                y_pred = model_instance.predict(X_test[featureset])\n",
        "                test_time = time.time() - start_time\n",
        "\n",
        "                accuracies.append(accuracy_score(y_test, y_pred))\n",
        "                precisions.append(precision_score(y_test, y_pred))\n",
        "                recalls.append(recall_score(y_test, y_pred))\n",
        "\n",
        "                times.append((train_time, test_time))\n",
        "\n",
        "            avg_accuracy = sum(accuracies) / len(accuracies)\n",
        "            avg_precisions = sum(precisions) / len(precisions)\n",
        "            avg_recalls = sum(recalls) / len(recalls)\n",
        "            avg_train_time = sum([t[0] for t in times]) / len(times)\n",
        "            avg_test_time = sum([t[1] for t in times]) / len(times)\n",
        "            results.append({\n",
        "                'Model': model_name,\n",
        "                'Hyperparameters': params,\n",
        "                'Featureset': feature_set_name,\n",
        "                'Accuracy': avg_accuracy,\n",
        "                'Precision': avg_precisions,\n",
        "                'Recall': avg_recalls,\n",
        "                'Avg Train Time': avg_train_time,\n",
        "                'Avg Test Time': avg_test_time\n",
        "            })\n",
        "        else:\n",
        "            model_instance = model(**params)\n",
        "\n",
        "            start_time = time.time()\n",
        "            model_instance.fit(X[featureset], y)\n",
        "            train_time = time.time() - start_time\n",
        "\n",
        "            start_time = time.time()\n",
        "            y_pred = model_instance.predict(X[featureset])\n",
        "            test_time = time.time() - start_time\n",
        "\n",
        "            accuracy = accuracy_score(y, y_pred)\n",
        "            precision = precision_score(y, y_pred)\n",
        "            recall = recall_score(y, y_pred)\n",
        "            f1 = f1_score(y, y_pred)\n",
        "\n",
        "            results.append({\n",
        "                'Model': model_name,\n",
        "                'Hyperparameters': params,\n",
        "                'Featureset': feature_set_name,\n",
        "                'Accuracy': accuracy,\n",
        "                'Precision': precision,\n",
        "                'Recall': recall,\n",
        "                'f1 score': f1,\n",
        "                'Train Time': train_time,\n",
        "                'Test Time': test_time\n",
        "            })\n",
        "\n",
        "    return results\n",
        "\n",
        "\n"
      ],
      "metadata": {
        "trusted": true,
        "id": "vntGDRCbOvuL"
      },
      "execution_count": null,
      "outputs": []
    },
    {
      "cell_type": "markdown",
      "source": [
        "# This is function to print all result in table - for ease:"
      ],
      "metadata": {
        "id": "QvqHiHvdOvuL"
      }
    },
    {
      "cell_type": "code",
      "source": [
        "def print_dict_as_table(model_results):\n",
        "    headers = model_results[0].keys()  # Get headers from the first dictionary in the list\n",
        "    table_data = [[result[header] for header in headers] for result in model_results]\n",
        "\n",
        "    # Print the table\n",
        "    print(tabulate(table_data, headers=headers, tablefmt='grid'))\n",
        "\n"
      ],
      "metadata": {
        "trusted": true,
        "id": "WwQWPPx4OvuL"
      },
      "execution_count": null,
      "outputs": []
    },
    {
      "cell_type": "markdown",
      "source": [
        "### First, I will test all models on the dataset, without features selection and without cross validation and see the results"
      ],
      "metadata": {
        "id": "84ZoqPdoOvuL"
      }
    },
    {
      "cell_type": "code",
      "source": [
        "# Define the hyperparams dict for each model, i encountered weired results without setting those params for those models\n",
        "hyperparameters_to_test = {\n",
        "    'RandomForestClassifier': {'max_depth': 5},\n",
        "    'DecisionTreeClassifier': {'max_depth': 5},\n",
        "}\n",
        "\n",
        "\n",
        "# Get all results\n",
        "models_results_ = run_models_and_evaluate(X_train_resampled, y_train_resampled, models=models_to_test,\n",
        "                                                 hyperparameters=hyperparameters_to_test,\n",
        "                                                 use_cross_val=False)\n",
        "\n",
        "print_dict_as_table(models_results)"
      ],
      "metadata": {
        "trusted": true,
        "id": "P3i7jSrYOvuM"
      },
      "execution_count": null,
      "outputs": []
    },
    {
      "cell_type": "markdown",
      "source": [
        "*  **We can see that GradientBoostingClassifier gave the best scores results but took the highest time to train**\n",
        "* **We can see that GaussianNB gave the worst scores results but took very low time to train**\n"
      ],
      "metadata": {
        "id": "MkIr_v3XOvuM"
      }
    },
    {
      "cell_type": "markdown",
      "source": [
        "## Ok now we will give each model 2 params with starting values and use 10 fold cross validation"
      ],
      "metadata": {
        "id": "F3WwLOKUOvuM"
      }
    },
    {
      "cell_type": "code",
      "source": [
        "hyperparameters_to_test = {\n",
        "    'LogisticRegression': {'solver': 'liblinear', 'C': 0.1, 'random_state': 42},\n",
        "    'RandomForestClassifier': {'n_estimators': 100, 'max_depth': 5, 'random_state': 42},\n",
        "    'GaussianNB': {'priors': [0.1, 0.9]},\n",
        "    'DecisionTreeClassifier': {'max_depth': 5, 'random_state': 42},\n",
        "    'GradientBoostingClassifier': {'n_estimators': 100, 'learning_rate': 0.1, 'random_state': 42}\n",
        "}\n",
        "\n",
        "\n",
        "models_results_initial_hyper_params = run_models_and_evaluate(X_train_resampled, y_train_resampled, models=models_to_test,\n",
        "                                                 hyperparameters=hyperparameters_to_test,\n",
        "                                                 use_cross_val=True)\n",
        "\n",
        "print_dict_as_table(models_results_initial_hyper_params)"
      ],
      "metadata": {
        "trusted": true,
        "id": "mfzEAj9POvuM"
      },
      "execution_count": null,
      "outputs": []
    },
    {
      "cell_type": "markdown",
      "source": [
        "## I will use features selection to choose the 12 most significant features using the function - select_features_rf"
      ],
      "metadata": {
        "id": "disJ-wcWOvuM"
      }
    },
    {
      "cell_type": "code",
      "source": [
        "selected_features = select_features_rf(X_train_resampled, y_train_resampled, num_features=12)\n",
        "selected_features"
      ],
      "metadata": {
        "execution": {
          "iopub.status.busy": "2024-04-04T14:59:30.97064Z",
          "iopub.execute_input": "2024-04-04T14:59:30.972123Z",
          "iopub.status.idle": "2024-04-04T14:59:34.548426Z",
          "shell.execute_reply.started": "2024-04-04T14:59:30.972068Z",
          "shell.execute_reply": "2024-04-04T14:59:34.546752Z"
        },
        "trusted": true,
        "id": "Ysmt_WBQOvuM"
      },
      "execution_count": null,
      "outputs": []
    },
    {
      "cell_type": "code",
      "source": [
        "models_results_initial_hyper_params_selected_features = run_models_and_evaluate(X_train_resampled, y_train_resampled, models=models_to_test,\n",
        "                                                 hyperparameters=hyperparameters_to_test,\n",
        "                                                 feature_set=('Selected Features', selected_features),\n",
        "                                                 use_cross_val=True)\n",
        "\n",
        "print_dict_as_table(models_results_initial_hyper_params_selected_features)"
      ],
      "metadata": {
        "execution": {
          "iopub.status.busy": "2024-04-04T15:02:09.727881Z",
          "iopub.execute_input": "2024-04-04T15:02:09.728351Z",
          "iopub.status.idle": "2024-04-04T15:02:45.144598Z",
          "shell.execute_reply.started": "2024-04-04T15:02:09.728316Z",
          "shell.execute_reply": "2024-04-04T15:02:45.143354Z"
        },
        "trusted": true,
        "id": "fA1USOjrOvuN"
      },
      "execution_count": null,
      "outputs": []
    },
    {
      "cell_type": "code",
      "source": [
        "selected_features = select_features_rf(X_train_resampled, y_train_resampled, num_features=12)"
      ],
      "metadata": {
        "id": "JrEqNv2oOvuN"
      },
      "execution_count": null,
      "outputs": []
    },
    {
      "cell_type": "code",
      "source": [
        "def hyperparameter_tuning(X_train, y_train, models, param_grids, cv=5, scoring='accuracy'):\n",
        "    \"\"\"\n",
        "    Perform hyperparameter tuning using Grid Search for multiple models.\n",
        "\n",
        "    Parameters:\n",
        "    - X_train: array-like, training features\n",
        "    - y_train: array-like, training target variable\n",
        "    - models: dict, key-value pairs of model names and corresponding model instances\n",
        "    - param_grids: dict, key-value pairs of model names and corresponding hyperparameter grids\n",
        "    - cv: int, optional, number of cross-validation folds (default=5)\n",
        "    - scoring: str, optional, evaluation metric for Grid Search (default='accuracy')\n",
        "\n",
        "    Returns:\n",
        "    - best_models: dict, key-value pairs of model names and best estimator models\n",
        "    - best_params: dict, key-value pairs of model names and best hyperparameters\n",
        "    \"\"\"\n",
        "    best_models = {}\n",
        "    best_params = {}\n",
        "\n",
        "    for model_name, model in models.items():\n",
        "        param_grid = param_grids[model_name]\n",
        "        grid_search = GridSearchCV(model, param_grid, cv=cv, scoring=scoring)\n",
        "        grid_search.fit(X_train, y_train)\n",
        "        best_models[model_name] = grid_search.best_estimator_\n",
        "        best_params[model_name] = grid_search.best_params_\n",
        "\n",
        "    return best_models, best_params\n",
        "\n",
        "\n"
      ],
      "metadata": {
        "trusted": true,
        "id": "lYAIOwc2OvuN"
      },
      "execution_count": null,
      "outputs": []
    },
    {
      "cell_type": "code",
      "source": [
        "hyperparameters_to_test = {\n",
        "    'LogisticRegression': {'solver': ['liblinear', 'lbfgs'], 'C': [0.1, 1.0, 10.0], 'random_state': [42]},\n",
        "    'RandomForestClassifier': {'n_estimators': [50, 100, 200], 'max_depth': [3, 5, 7], 'random_state': [42]},\n",
        "    'GaussianNB': {'priors': [[0.1, 0.9], [0.3, 0.7], [0.5, 0.5]]},\n",
        "    'DecisionTreeClassifier': {'max_depth': [3, 5, 7], 'random_state': [42]},\n",
        "    'GradientBoostingClassifier': {'n_estimators': [50, 100, 200], 'learning_rate': [0.05, 0.1, 0.2], 'random_state': [42]}\n",
        "}\n",
        "\n",
        "\n",
        "\n",
        "best_models, best_params = hyperparameter_tuning(X_train_resampled, y_train_resampled, models_to_test, hyperparameters_to_test)\n",
        "\n",
        "# Print best hyperparameters\n",
        "for model_name, params in best_params.items():\n",
        "    print(f\"Best hyperparameters for {model_name}: {params}\")"
      ],
      "metadata": {
        "id": "sbjqOzblOvuN"
      },
      "execution_count": null,
      "outputs": []
    }
  ]
}