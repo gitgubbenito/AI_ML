{
  "cells": [
    {
      "cell_type": "markdown",
      "metadata": {
        "id": "view-in-github",
        "colab_type": "text"
      },
      "source": [
        "<a href=\"https://colab.research.google.com/github/gitgubbenito/AI_ML/blob/main/try_it_9_2_3_starter.ipynb\" target=\"_parent\"><img src=\"https://colab.research.google.com/assets/colab-badge.svg\" alt=\"Open In Colab\"/></a>"
      ]
    },
    {
      "cell_type": "markdown",
      "metadata": {
        "id": "xNT9o_Hqfiza"
      },
      "source": [
        "### Try-it 9.2: Predicting Wages\n",
        "\n",
        "This activity is meant to summarize your work with regularized regression models.  You will use your earlier work with data preparation and pipelines together with what you've learned with grid searches to determine an optimal model.  In addition to the prior strategies, this example is an excellent opportunity to utilize the `TransformedTargetRegressor` estimator in scikitlearn."
      ]
    },
    {
      "cell_type": "markdown",
      "metadata": {
        "id": "v88jqOKafizc"
      },
      "source": [
        "### The Data\n",
        "\n",
        "This dataset is loaded from the openml resource library.  Originally from census data, the data contains wage and demographic information on 534 individuals. From the dataset documentation [here](https://www.openml.org/d/534)\n",
        "\n",
        "```\n",
        "The Current Population Survey (CPS) is used to supplement census information between census years. These data consist of a random sample of 534 persons from the CPS, with information on wages and other characteristics of the workers, including sex, number of years of education, years of work experience, occupational status, region of residence and union membership.\n",
        "```"
      ]
    },
    {
      "cell_type": "code",
      "execution_count": 6,
      "metadata": {
        "colab": {
          "base_uri": "https://localhost:8080/"
        },
        "id": "bnkPU-zpfizf",
        "outputId": "e6eff8d9-3c73-4733-992c-07e8f6c39a23"
      },
      "outputs": [
        {
          "output_type": "stream",
          "name": "stdout",
          "text": [
            "Requirement already satisfied: scipy in /usr/local/lib/python3.10/dist-packages (1.11.4)\n",
            "Requirement already satisfied: pandas in /usr/local/lib/python3.10/dist-packages (2.0.3)\n",
            "Requirement already satisfied: plotly in /usr/local/lib/python3.10/dist-packages (5.15.0)\n",
            "Requirement already satisfied: numpy<1.28.0,>=1.21.6 in /usr/local/lib/python3.10/dist-packages (from scipy) (1.25.2)\n",
            "Requirement already satisfied: python-dateutil>=2.8.2 in /usr/local/lib/python3.10/dist-packages (from pandas) (2.8.2)\n",
            "Requirement already satisfied: pytz>=2020.1 in /usr/local/lib/python3.10/dist-packages (from pandas) (2023.4)\n",
            "Requirement already satisfied: tzdata>=2022.1 in /usr/local/lib/python3.10/dist-packages (from pandas) (2024.1)\n",
            "Requirement already satisfied: tenacity>=6.2.0 in /usr/local/lib/python3.10/dist-packages (from plotly) (8.2.3)\n",
            "Requirement already satisfied: packaging in /usr/local/lib/python3.10/dist-packages (from plotly) (24.0)\n",
            "Requirement already satisfied: six>=1.5 in /usr/local/lib/python3.10/dist-packages (from python-dateutil>=2.8.2->pandas) (1.16.0)\n"
          ]
        }
      ],
      "source": [
        "!pip install scipy pandas plotly"
      ]
    },
    {
      "cell_type": "code",
      "execution_count": 7,
      "metadata": {
        "id": "KirRkOqRfizg"
      },
      "outputs": [],
      "source": [
        "from sklearn.datasets import fetch_openml"
      ]
    },
    {
      "cell_type": "code",
      "execution_count": 8,
      "metadata": {
        "colab": {
          "base_uri": "https://localhost:8080/"
        },
        "id": "eJyKHCRpfizh",
        "outputId": "102bbdd6-63cf-418a-a002-0aed7653cd14"
      },
      "outputs": [
        {
          "output_type": "stream",
          "name": "stdout",
          "text": [
            "   EDUCATION SOUTH     SEX  EXPERIENCE       UNION  WAGE   AGE      RACE  \\\n",
            "0        8.0    no  female        21.0  not_member  5.10  35.0  Hispanic   \n",
            "1        9.0    no  female        42.0  not_member  4.95  57.0     White   \n",
            "2       12.0    no    male         1.0  not_member  6.67  19.0     White   \n",
            "3       12.0    no    male         4.0  not_member  4.00  22.0     White   \n",
            "4       12.0    no    male        17.0  not_member  7.50  35.0     White   \n",
            "\n",
            "  OCCUPATION         SECTOR       MARR  \n",
            "0      Other  Manufacturing    Married  \n",
            "1      Other  Manufacturing    Married  \n",
            "2      Other  Manufacturing  Unmarried  \n",
            "3      Other          Other  Unmarried  \n",
            "4      Other          Other    Married  \n"
          ]
        }
      ],
      "source": [
        "# wages = fetch_openml(data_id=534, as_frame=True).frame\n",
        "\n",
        "import pandas as pd\n",
        "from scipy.io import arff\n",
        "\n",
        "# Load your .arff file\n",
        "path_to_file = 'cps_85_wages.arff'\n",
        "data, meta = arff.loadarff(path_to_file)\n",
        "\n",
        "# Convert to a pandas DataFrame\n",
        "wages = pd.DataFrame(data)\n",
        "\n",
        "# Convert byte strings to strings (if necessary)\n",
        "wages = wages.applymap(lambda x: x.decode('utf-8') if isinstance(x, bytes) else x)\n",
        "\n",
        "# Now you can work with the DataFrame as usual\n",
        "print(wages.head())"
      ]
    },
    {
      "cell_type": "markdown",
      "metadata": {
        "id": "IO6jsh-qfizh"
      },
      "source": [
        "#### Task\n",
        "\n",
        "Build regression models to predict `WAGE`.  Incorporate the categorical features and transform the target using a logarithm.  Build `Ridge` models and consider some different amounts of regularization.  \n",
        "\n",
        "After fitting your model, interpret the model and try to understand what features led to higher wages.  Consider using `permutation_importance` that you encountered in module 8.  Discuss your findings in the class forum.\n",
        "\n",
        "For an in depth example discussing the perils of interpreting the coefficients see the example in scikitlearn examples [here](https://scikit-learn.org/stable/auto_examples/inspection/plot_linear_model_coefficient_interpretation.html)."
      ]
    },
    {
      "cell_type": "code",
      "execution_count": 9,
      "metadata": {
        "id": "ZFANTaJxfizh"
      },
      "outputs": [],
      "source": [
        "from sklearn.pipeline import Pipeline\n",
        "from sklearn.model_selection import GridSearchCV\n",
        "from sklearn.linear_model import LinearRegression, Ridge, Lasso\n",
        "from sklearn.preprocessing import PolynomialFeatures, StandardScaler, OneHotEncoder\n",
        "from sklearn.compose import make_column_transformer, TransformedTargetRegressor\n",
        "from sklearn.inspection import permutation_importance\n",
        "from sklearn.feature_selection import SequentialFeatureSelector\n",
        "import numpy as np\n",
        "import plotly.express as px\n",
        "import matplotlib.pyplot as plt\n",
        "import pandas as pd\n",
        "import warnings\n",
        "import seaborn as sns"
      ]
    },
    {
      "cell_type": "code",
      "execution_count": 11,
      "metadata": {
        "colab": {
          "base_uri": "https://localhost:8080/"
        },
        "id": "BS2L-jSsfizi",
        "outputId": "47e94f50-96a7-48e1-da4e-66fe68809b0c"
      },
      "outputs": [
        {
          "output_type": "stream",
          "name": "stdout",
          "text": [
            "<class 'pandas.core.frame.DataFrame'>\n",
            "RangeIndex: 534 entries, 0 to 533\n",
            "Data columns (total 11 columns):\n",
            " #   Column      Non-Null Count  Dtype  \n",
            "---  ------      --------------  -----  \n",
            " 0   EDUCATION   534 non-null    float64\n",
            " 1   SOUTH       534 non-null    object \n",
            " 2   SEX         534 non-null    object \n",
            " 3   EXPERIENCE  534 non-null    float64\n",
            " 4   UNION       534 non-null    object \n",
            " 5   WAGE        534 non-null    float64\n",
            " 6   AGE         534 non-null    float64\n",
            " 7   RACE        534 non-null    object \n",
            " 8   OCCUPATION  534 non-null    object \n",
            " 9   SECTOR      534 non-null    object \n",
            " 10  MARR        534 non-null    object \n",
            "dtypes: float64(4), object(7)\n",
            "memory usage: 46.0+ KB\n"
          ]
        }
      ],
      "source": [
        "wages.info()"
      ]
    },
    {
      "cell_type": "markdown",
      "metadata": {
        "id": "66X86c1rfizi"
      },
      "source": [
        "let's begin checking whether this data set has missing values?"
      ]
    },
    {
      "cell_type": "code",
      "execution_count": 12,
      "metadata": {
        "colab": {
          "base_uri": "https://localhost:8080/"
        },
        "id": "Ukhqix7mfizi",
        "outputId": "db1970c2-0b83-4648-fdee-a0b1f0492ec0"
      },
      "outputs": [
        {
          "output_type": "execute_result",
          "data": {
            "text/plain": [
              "EDUCATION     0\n",
              "SOUTH         0\n",
              "SEX           0\n",
              "EXPERIENCE    0\n",
              "UNION         0\n",
              "WAGE          0\n",
              "AGE           0\n",
              "RACE          0\n",
              "OCCUPATION    0\n",
              "SECTOR        0\n",
              "MARR          0\n",
              "dtype: int64"
            ]
          },
          "metadata": {},
          "execution_count": 12
        }
      ],
      "source": [
        "wages.isnull().sum()"
      ]
    },
    {
      "cell_type": "markdown",
      "metadata": {
        "id": "25WJfrpxfizj"
      },
      "source": [
        "great no missing values, what about outliers?\n",
        "\n",
        "also, since there are 7 categorical features, we will be selecting numerical features for outlier analysis"
      ]
    },
    {
      "cell_type": "code",
      "execution_count": 13,
      "metadata": {
        "colab": {
          "base_uri": "https://localhost:8080/",
          "height": 1000
        },
        "id": "xyJo2Ljjfizj",
        "outputId": "12fca99c-f8c0-4cb6-d835-12cf0a8362ea"
      },
      "outputs": [
        {
          "output_type": "execute_result",
          "data": {
            "text/plain": [
              "     EDUCATION SOUTH     SEX  EXPERIENCE       UNION   WAGE   AGE      RACE  \\\n",
              "16         7.0   yes    male        44.0  not_member   8.00  57.0     White   \n",
              "17        12.0    no    male        26.0      member  22.20  44.0     White   \n",
              "19        12.0    no    male        33.0  not_member  20.55  51.0     White   \n",
              "21         7.0    no    male        42.0      member   7.00  55.0     Other   \n",
              "25         6.0   yes    male        45.0  not_member   5.75  57.0     White   \n",
              "45         7.0   yes  female        15.0  not_member   6.00  28.0     White   \n",
              "62         3.0   yes    male        55.0  not_member   7.00  64.0  Hispanic   \n",
              "75         6.0    no  female        43.0      member   3.00  55.0  Hispanic   \n",
              "106       14.0    no    male        21.0      member  26.00  41.0     White   \n",
              "107        5.0   yes    male        44.0  not_member  14.00  55.0     White   \n",
              "137        7.0   yes    male        43.0  not_member   3.35  56.0     White   \n",
              "150        6.0   yes  female        33.0  not_member   4.62  45.0     Other   \n",
              "156       16.0    no    male        18.0  not_member  24.98  40.0     White   \n",
              "161       13.0    no    male        32.0  not_member  21.25  51.0     White   \n",
              "168       17.0   yes    male        32.0  not_member  26.29  55.0     White   \n",
              "170       14.0    no  female         1.0  not_member  44.50  21.0     White   \n",
              "177       15.0    no    male        12.0  not_member  22.50  33.0     White   \n",
              "180       18.0    no    male        29.0  not_member  24.98  53.0     White   \n",
              "184       16.0    no    male        22.0  not_member  22.50  44.0     White   \n",
              "210       18.0    no    male        14.0  not_member  22.50  38.0     White   \n",
              "346        4.0    no    male        54.0  not_member   6.00  64.0     White   \n",
              "350        2.0    no    male        16.0  not_member   3.75  24.0  Hispanic   \n",
              "409       14.0    no    male         4.0      member  25.00  24.0  Hispanic   \n",
              "427        7.0   yes    male        14.0  not_member   4.50  27.0  Hispanic   \n",
              "431       17.0    no    male        31.0  not_member  24.98  54.0     White   \n",
              "433       14.0   yes    male        15.0  not_member  22.00  35.0     White   \n",
              "435       18.0    no    male         8.0  not_member  22.20  32.0     White   \n",
              "449       17.0    no  female         5.0  not_member  24.98  28.0     White   \n",
              "479       16.0   yes    male        14.0      member  20.50  36.0     White   \n",
              "484       17.0    no    male         3.0  not_member  20.40  26.0     White   \n",
              "485       18.0    no  female        40.0  not_member  22.20  64.0     White   \n",
              "494       16.0   yes  female         5.0  not_member  24.98  27.0     White   \n",
              "496       18.0    no  female        37.0  not_member  22.83  61.0     White   \n",
              "502       17.0    no    male        18.0  not_member  24.98  41.0  Hispanic   \n",
              "521       16.0    no    male        17.0  not_member  22.50  39.0     White   \n",
              "531       17.0    no  female        25.0      member  23.25  48.0     Other   \n",
              "\n",
              "       OCCUPATION         SECTOR       MARR  \n",
              "16          Other          Other    Married  \n",
              "17          Other  Manufacturing    Married  \n",
              "19          Other          Other    Married  \n",
              "21          Other  Manufacturing    Married  \n",
              "25          Other  Manufacturing    Married  \n",
              "45          Other  Manufacturing    Married  \n",
              "62          Other  Manufacturing    Married  \n",
              "75          Other  Manufacturing    Married  \n",
              "106         Other          Other    Married  \n",
              "107         Other   Construction    Married  \n",
              "137         Other  Manufacturing    Married  \n",
              "150         Other  Manufacturing  Unmarried  \n",
              "156    Management          Other    Married  \n",
              "161    Management          Other  Unmarried  \n",
              "168    Management          Other    Married  \n",
              "170    Management          Other  Unmarried  \n",
              "177    Management          Other    Married  \n",
              "180    Management          Other    Married  \n",
              "184    Management          Other    Married  \n",
              "210    Management          Other    Married  \n",
              "346       Service          Other    Married  \n",
              "350       Service          Other  Unmarried  \n",
              "409       Service          Other  Unmarried  \n",
              "427       Service          Other    Married  \n",
              "431  Professional  Manufacturing    Married  \n",
              "433  Professional          Other    Married  \n",
              "435  Professional          Other    Married  \n",
              "449  Professional          Other  Unmarried  \n",
              "479  Professional          Other    Married  \n",
              "484  Professional  Manufacturing  Unmarried  \n",
              "485  Professional          Other  Unmarried  \n",
              "494  Professional          Other  Unmarried  \n",
              "496  Professional  Manufacturing  Unmarried  \n",
              "502  Professional          Other    Married  \n",
              "521  Professional  Manufacturing    Married  \n",
              "531  Professional          Other    Married  "
            ],
            "text/html": [
              "\n",
              "  <div id=\"df-5f13c845-6578-4177-ae21-a46f3a9357a3\" class=\"colab-df-container\">\n",
              "    <div>\n",
              "<style scoped>\n",
              "    .dataframe tbody tr th:only-of-type {\n",
              "        vertical-align: middle;\n",
              "    }\n",
              "\n",
              "    .dataframe tbody tr th {\n",
              "        vertical-align: top;\n",
              "    }\n",
              "\n",
              "    .dataframe thead th {\n",
              "        text-align: right;\n",
              "    }\n",
              "</style>\n",
              "<table border=\"1\" class=\"dataframe\">\n",
              "  <thead>\n",
              "    <tr style=\"text-align: right;\">\n",
              "      <th></th>\n",
              "      <th>EDUCATION</th>\n",
              "      <th>SOUTH</th>\n",
              "      <th>SEX</th>\n",
              "      <th>EXPERIENCE</th>\n",
              "      <th>UNION</th>\n",
              "      <th>WAGE</th>\n",
              "      <th>AGE</th>\n",
              "      <th>RACE</th>\n",
              "      <th>OCCUPATION</th>\n",
              "      <th>SECTOR</th>\n",
              "      <th>MARR</th>\n",
              "    </tr>\n",
              "  </thead>\n",
              "  <tbody>\n",
              "    <tr>\n",
              "      <th>16</th>\n",
              "      <td>7.0</td>\n",
              "      <td>yes</td>\n",
              "      <td>male</td>\n",
              "      <td>44.0</td>\n",
              "      <td>not_member</td>\n",
              "      <td>8.00</td>\n",
              "      <td>57.0</td>\n",
              "      <td>White</td>\n",
              "      <td>Other</td>\n",
              "      <td>Other</td>\n",
              "      <td>Married</td>\n",
              "    </tr>\n",
              "    <tr>\n",
              "      <th>17</th>\n",
              "      <td>12.0</td>\n",
              "      <td>no</td>\n",
              "      <td>male</td>\n",
              "      <td>26.0</td>\n",
              "      <td>member</td>\n",
              "      <td>22.20</td>\n",
              "      <td>44.0</td>\n",
              "      <td>White</td>\n",
              "      <td>Other</td>\n",
              "      <td>Manufacturing</td>\n",
              "      <td>Married</td>\n",
              "    </tr>\n",
              "    <tr>\n",
              "      <th>19</th>\n",
              "      <td>12.0</td>\n",
              "      <td>no</td>\n",
              "      <td>male</td>\n",
              "      <td>33.0</td>\n",
              "      <td>not_member</td>\n",
              "      <td>20.55</td>\n",
              "      <td>51.0</td>\n",
              "      <td>White</td>\n",
              "      <td>Other</td>\n",
              "      <td>Other</td>\n",
              "      <td>Married</td>\n",
              "    </tr>\n",
              "    <tr>\n",
              "      <th>21</th>\n",
              "      <td>7.0</td>\n",
              "      <td>no</td>\n",
              "      <td>male</td>\n",
              "      <td>42.0</td>\n",
              "      <td>member</td>\n",
              "      <td>7.00</td>\n",
              "      <td>55.0</td>\n",
              "      <td>Other</td>\n",
              "      <td>Other</td>\n",
              "      <td>Manufacturing</td>\n",
              "      <td>Married</td>\n",
              "    </tr>\n",
              "    <tr>\n",
              "      <th>25</th>\n",
              "      <td>6.0</td>\n",
              "      <td>yes</td>\n",
              "      <td>male</td>\n",
              "      <td>45.0</td>\n",
              "      <td>not_member</td>\n",
              "      <td>5.75</td>\n",
              "      <td>57.0</td>\n",
              "      <td>White</td>\n",
              "      <td>Other</td>\n",
              "      <td>Manufacturing</td>\n",
              "      <td>Married</td>\n",
              "    </tr>\n",
              "    <tr>\n",
              "      <th>45</th>\n",
              "      <td>7.0</td>\n",
              "      <td>yes</td>\n",
              "      <td>female</td>\n",
              "      <td>15.0</td>\n",
              "      <td>not_member</td>\n",
              "      <td>6.00</td>\n",
              "      <td>28.0</td>\n",
              "      <td>White</td>\n",
              "      <td>Other</td>\n",
              "      <td>Manufacturing</td>\n",
              "      <td>Married</td>\n",
              "    </tr>\n",
              "    <tr>\n",
              "      <th>62</th>\n",
              "      <td>3.0</td>\n",
              "      <td>yes</td>\n",
              "      <td>male</td>\n",
              "      <td>55.0</td>\n",
              "      <td>not_member</td>\n",
              "      <td>7.00</td>\n",
              "      <td>64.0</td>\n",
              "      <td>Hispanic</td>\n",
              "      <td>Other</td>\n",
              "      <td>Manufacturing</td>\n",
              "      <td>Married</td>\n",
              "    </tr>\n",
              "    <tr>\n",
              "      <th>75</th>\n",
              "      <td>6.0</td>\n",
              "      <td>no</td>\n",
              "      <td>female</td>\n",
              "      <td>43.0</td>\n",
              "      <td>member</td>\n",
              "      <td>3.00</td>\n",
              "      <td>55.0</td>\n",
              "      <td>Hispanic</td>\n",
              "      <td>Other</td>\n",
              "      <td>Manufacturing</td>\n",
              "      <td>Married</td>\n",
              "    </tr>\n",
              "    <tr>\n",
              "      <th>106</th>\n",
              "      <td>14.0</td>\n",
              "      <td>no</td>\n",
              "      <td>male</td>\n",
              "      <td>21.0</td>\n",
              "      <td>member</td>\n",
              "      <td>26.00</td>\n",
              "      <td>41.0</td>\n",
              "      <td>White</td>\n",
              "      <td>Other</td>\n",
              "      <td>Other</td>\n",
              "      <td>Married</td>\n",
              "    </tr>\n",
              "    <tr>\n",
              "      <th>107</th>\n",
              "      <td>5.0</td>\n",
              "      <td>yes</td>\n",
              "      <td>male</td>\n",
              "      <td>44.0</td>\n",
              "      <td>not_member</td>\n",
              "      <td>14.00</td>\n",
              "      <td>55.0</td>\n",
              "      <td>White</td>\n",
              "      <td>Other</td>\n",
              "      <td>Construction</td>\n",
              "      <td>Married</td>\n",
              "    </tr>\n",
              "    <tr>\n",
              "      <th>137</th>\n",
              "      <td>7.0</td>\n",
              "      <td>yes</td>\n",
              "      <td>male</td>\n",
              "      <td>43.0</td>\n",
              "      <td>not_member</td>\n",
              "      <td>3.35</td>\n",
              "      <td>56.0</td>\n",
              "      <td>White</td>\n",
              "      <td>Other</td>\n",
              "      <td>Manufacturing</td>\n",
              "      <td>Married</td>\n",
              "    </tr>\n",
              "    <tr>\n",
              "      <th>150</th>\n",
              "      <td>6.0</td>\n",
              "      <td>yes</td>\n",
              "      <td>female</td>\n",
              "      <td>33.0</td>\n",
              "      <td>not_member</td>\n",
              "      <td>4.62</td>\n",
              "      <td>45.0</td>\n",
              "      <td>Other</td>\n",
              "      <td>Other</td>\n",
              "      <td>Manufacturing</td>\n",
              "      <td>Unmarried</td>\n",
              "    </tr>\n",
              "    <tr>\n",
              "      <th>156</th>\n",
              "      <td>16.0</td>\n",
              "      <td>no</td>\n",
              "      <td>male</td>\n",
              "      <td>18.0</td>\n",
              "      <td>not_member</td>\n",
              "      <td>24.98</td>\n",
              "      <td>40.0</td>\n",
              "      <td>White</td>\n",
              "      <td>Management</td>\n",
              "      <td>Other</td>\n",
              "      <td>Married</td>\n",
              "    </tr>\n",
              "    <tr>\n",
              "      <th>161</th>\n",
              "      <td>13.0</td>\n",
              "      <td>no</td>\n",
              "      <td>male</td>\n",
              "      <td>32.0</td>\n",
              "      <td>not_member</td>\n",
              "      <td>21.25</td>\n",
              "      <td>51.0</td>\n",
              "      <td>White</td>\n",
              "      <td>Management</td>\n",
              "      <td>Other</td>\n",
              "      <td>Unmarried</td>\n",
              "    </tr>\n",
              "    <tr>\n",
              "      <th>168</th>\n",
              "      <td>17.0</td>\n",
              "      <td>yes</td>\n",
              "      <td>male</td>\n",
              "      <td>32.0</td>\n",
              "      <td>not_member</td>\n",
              "      <td>26.29</td>\n",
              "      <td>55.0</td>\n",
              "      <td>White</td>\n",
              "      <td>Management</td>\n",
              "      <td>Other</td>\n",
              "      <td>Married</td>\n",
              "    </tr>\n",
              "    <tr>\n",
              "      <th>170</th>\n",
              "      <td>14.0</td>\n",
              "      <td>no</td>\n",
              "      <td>female</td>\n",
              "      <td>1.0</td>\n",
              "      <td>not_member</td>\n",
              "      <td>44.50</td>\n",
              "      <td>21.0</td>\n",
              "      <td>White</td>\n",
              "      <td>Management</td>\n",
              "      <td>Other</td>\n",
              "      <td>Unmarried</td>\n",
              "    </tr>\n",
              "    <tr>\n",
              "      <th>177</th>\n",
              "      <td>15.0</td>\n",
              "      <td>no</td>\n",
              "      <td>male</td>\n",
              "      <td>12.0</td>\n",
              "      <td>not_member</td>\n",
              "      <td>22.50</td>\n",
              "      <td>33.0</td>\n",
              "      <td>White</td>\n",
              "      <td>Management</td>\n",
              "      <td>Other</td>\n",
              "      <td>Married</td>\n",
              "    </tr>\n",
              "    <tr>\n",
              "      <th>180</th>\n",
              "      <td>18.0</td>\n",
              "      <td>no</td>\n",
              "      <td>male</td>\n",
              "      <td>29.0</td>\n",
              "      <td>not_member</td>\n",
              "      <td>24.98</td>\n",
              "      <td>53.0</td>\n",
              "      <td>White</td>\n",
              "      <td>Management</td>\n",
              "      <td>Other</td>\n",
              "      <td>Married</td>\n",
              "    </tr>\n",
              "    <tr>\n",
              "      <th>184</th>\n",
              "      <td>16.0</td>\n",
              "      <td>no</td>\n",
              "      <td>male</td>\n",
              "      <td>22.0</td>\n",
              "      <td>not_member</td>\n",
              "      <td>22.50</td>\n",
              "      <td>44.0</td>\n",
              "      <td>White</td>\n",
              "      <td>Management</td>\n",
              "      <td>Other</td>\n",
              "      <td>Married</td>\n",
              "    </tr>\n",
              "    <tr>\n",
              "      <th>210</th>\n",
              "      <td>18.0</td>\n",
              "      <td>no</td>\n",
              "      <td>male</td>\n",
              "      <td>14.0</td>\n",
              "      <td>not_member</td>\n",
              "      <td>22.50</td>\n",
              "      <td>38.0</td>\n",
              "      <td>White</td>\n",
              "      <td>Management</td>\n",
              "      <td>Other</td>\n",
              "      <td>Married</td>\n",
              "    </tr>\n",
              "    <tr>\n",
              "      <th>346</th>\n",
              "      <td>4.0</td>\n",
              "      <td>no</td>\n",
              "      <td>male</td>\n",
              "      <td>54.0</td>\n",
              "      <td>not_member</td>\n",
              "      <td>6.00</td>\n",
              "      <td>64.0</td>\n",
              "      <td>White</td>\n",
              "      <td>Service</td>\n",
              "      <td>Other</td>\n",
              "      <td>Married</td>\n",
              "    </tr>\n",
              "    <tr>\n",
              "      <th>350</th>\n",
              "      <td>2.0</td>\n",
              "      <td>no</td>\n",
              "      <td>male</td>\n",
              "      <td>16.0</td>\n",
              "      <td>not_member</td>\n",
              "      <td>3.75</td>\n",
              "      <td>24.0</td>\n",
              "      <td>Hispanic</td>\n",
              "      <td>Service</td>\n",
              "      <td>Other</td>\n",
              "      <td>Unmarried</td>\n",
              "    </tr>\n",
              "    <tr>\n",
              "      <th>409</th>\n",
              "      <td>14.0</td>\n",
              "      <td>no</td>\n",
              "      <td>male</td>\n",
              "      <td>4.0</td>\n",
              "      <td>member</td>\n",
              "      <td>25.00</td>\n",
              "      <td>24.0</td>\n",
              "      <td>Hispanic</td>\n",
              "      <td>Service</td>\n",
              "      <td>Other</td>\n",
              "      <td>Unmarried</td>\n",
              "    </tr>\n",
              "    <tr>\n",
              "      <th>427</th>\n",
              "      <td>7.0</td>\n",
              "      <td>yes</td>\n",
              "      <td>male</td>\n",
              "      <td>14.0</td>\n",
              "      <td>not_member</td>\n",
              "      <td>4.50</td>\n",
              "      <td>27.0</td>\n",
              "      <td>Hispanic</td>\n",
              "      <td>Service</td>\n",
              "      <td>Other</td>\n",
              "      <td>Married</td>\n",
              "    </tr>\n",
              "    <tr>\n",
              "      <th>431</th>\n",
              "      <td>17.0</td>\n",
              "      <td>no</td>\n",
              "      <td>male</td>\n",
              "      <td>31.0</td>\n",
              "      <td>not_member</td>\n",
              "      <td>24.98</td>\n",
              "      <td>54.0</td>\n",
              "      <td>White</td>\n",
              "      <td>Professional</td>\n",
              "      <td>Manufacturing</td>\n",
              "      <td>Married</td>\n",
              "    </tr>\n",
              "    <tr>\n",
              "      <th>433</th>\n",
              "      <td>14.0</td>\n",
              "      <td>yes</td>\n",
              "      <td>male</td>\n",
              "      <td>15.0</td>\n",
              "      <td>not_member</td>\n",
              "      <td>22.00</td>\n",
              "      <td>35.0</td>\n",
              "      <td>White</td>\n",
              "      <td>Professional</td>\n",
              "      <td>Other</td>\n",
              "      <td>Married</td>\n",
              "    </tr>\n",
              "    <tr>\n",
              "      <th>435</th>\n",
              "      <td>18.0</td>\n",
              "      <td>no</td>\n",
              "      <td>male</td>\n",
              "      <td>8.0</td>\n",
              "      <td>not_member</td>\n",
              "      <td>22.20</td>\n",
              "      <td>32.0</td>\n",
              "      <td>White</td>\n",
              "      <td>Professional</td>\n",
              "      <td>Other</td>\n",
              "      <td>Married</td>\n",
              "    </tr>\n",
              "    <tr>\n",
              "      <th>449</th>\n",
              "      <td>17.0</td>\n",
              "      <td>no</td>\n",
              "      <td>female</td>\n",
              "      <td>5.0</td>\n",
              "      <td>not_member</td>\n",
              "      <td>24.98</td>\n",
              "      <td>28.0</td>\n",
              "      <td>White</td>\n",
              "      <td>Professional</td>\n",
              "      <td>Other</td>\n",
              "      <td>Unmarried</td>\n",
              "    </tr>\n",
              "    <tr>\n",
              "      <th>479</th>\n",
              "      <td>16.0</td>\n",
              "      <td>yes</td>\n",
              "      <td>male</td>\n",
              "      <td>14.0</td>\n",
              "      <td>member</td>\n",
              "      <td>20.50</td>\n",
              "      <td>36.0</td>\n",
              "      <td>White</td>\n",
              "      <td>Professional</td>\n",
              "      <td>Other</td>\n",
              "      <td>Married</td>\n",
              "    </tr>\n",
              "    <tr>\n",
              "      <th>484</th>\n",
              "      <td>17.0</td>\n",
              "      <td>no</td>\n",
              "      <td>male</td>\n",
              "      <td>3.0</td>\n",
              "      <td>not_member</td>\n",
              "      <td>20.40</td>\n",
              "      <td>26.0</td>\n",
              "      <td>White</td>\n",
              "      <td>Professional</td>\n",
              "      <td>Manufacturing</td>\n",
              "      <td>Unmarried</td>\n",
              "    </tr>\n",
              "    <tr>\n",
              "      <th>485</th>\n",
              "      <td>18.0</td>\n",
              "      <td>no</td>\n",
              "      <td>female</td>\n",
              "      <td>40.0</td>\n",
              "      <td>not_member</td>\n",
              "      <td>22.20</td>\n",
              "      <td>64.0</td>\n",
              "      <td>White</td>\n",
              "      <td>Professional</td>\n",
              "      <td>Other</td>\n",
              "      <td>Unmarried</td>\n",
              "    </tr>\n",
              "    <tr>\n",
              "      <th>494</th>\n",
              "      <td>16.0</td>\n",
              "      <td>yes</td>\n",
              "      <td>female</td>\n",
              "      <td>5.0</td>\n",
              "      <td>not_member</td>\n",
              "      <td>24.98</td>\n",
              "      <td>27.0</td>\n",
              "      <td>White</td>\n",
              "      <td>Professional</td>\n",
              "      <td>Other</td>\n",
              "      <td>Unmarried</td>\n",
              "    </tr>\n",
              "    <tr>\n",
              "      <th>496</th>\n",
              "      <td>18.0</td>\n",
              "      <td>no</td>\n",
              "      <td>female</td>\n",
              "      <td>37.0</td>\n",
              "      <td>not_member</td>\n",
              "      <td>22.83</td>\n",
              "      <td>61.0</td>\n",
              "      <td>White</td>\n",
              "      <td>Professional</td>\n",
              "      <td>Manufacturing</td>\n",
              "      <td>Unmarried</td>\n",
              "    </tr>\n",
              "    <tr>\n",
              "      <th>502</th>\n",
              "      <td>17.0</td>\n",
              "      <td>no</td>\n",
              "      <td>male</td>\n",
              "      <td>18.0</td>\n",
              "      <td>not_member</td>\n",
              "      <td>24.98</td>\n",
              "      <td>41.0</td>\n",
              "      <td>Hispanic</td>\n",
              "      <td>Professional</td>\n",
              "      <td>Other</td>\n",
              "      <td>Married</td>\n",
              "    </tr>\n",
              "    <tr>\n",
              "      <th>521</th>\n",
              "      <td>16.0</td>\n",
              "      <td>no</td>\n",
              "      <td>male</td>\n",
              "      <td>17.0</td>\n",
              "      <td>not_member</td>\n",
              "      <td>22.50</td>\n",
              "      <td>39.0</td>\n",
              "      <td>White</td>\n",
              "      <td>Professional</td>\n",
              "      <td>Manufacturing</td>\n",
              "      <td>Married</td>\n",
              "    </tr>\n",
              "    <tr>\n",
              "      <th>531</th>\n",
              "      <td>17.0</td>\n",
              "      <td>no</td>\n",
              "      <td>female</td>\n",
              "      <td>25.0</td>\n",
              "      <td>member</td>\n",
              "      <td>23.25</td>\n",
              "      <td>48.0</td>\n",
              "      <td>Other</td>\n",
              "      <td>Professional</td>\n",
              "      <td>Other</td>\n",
              "      <td>Married</td>\n",
              "    </tr>\n",
              "  </tbody>\n",
              "</table>\n",
              "</div>\n",
              "    <div class=\"colab-df-buttons\">\n",
              "\n",
              "  <div class=\"colab-df-container\">\n",
              "    <button class=\"colab-df-convert\" onclick=\"convertToInteractive('df-5f13c845-6578-4177-ae21-a46f3a9357a3')\"\n",
              "            title=\"Convert this dataframe to an interactive table.\"\n",
              "            style=\"display:none;\">\n",
              "\n",
              "  <svg xmlns=\"http://www.w3.org/2000/svg\" height=\"24px\" viewBox=\"0 -960 960 960\">\n",
              "    <path d=\"M120-120v-720h720v720H120Zm60-500h600v-160H180v160Zm220 220h160v-160H400v160Zm0 220h160v-160H400v160ZM180-400h160v-160H180v160Zm440 0h160v-160H620v160ZM180-180h160v-160H180v160Zm440 0h160v-160H620v160Z\"/>\n",
              "  </svg>\n",
              "    </button>\n",
              "\n",
              "  <style>\n",
              "    .colab-df-container {\n",
              "      display:flex;\n",
              "      gap: 12px;\n",
              "    }\n",
              "\n",
              "    .colab-df-convert {\n",
              "      background-color: #E8F0FE;\n",
              "      border: none;\n",
              "      border-radius: 50%;\n",
              "      cursor: pointer;\n",
              "      display: none;\n",
              "      fill: #1967D2;\n",
              "      height: 32px;\n",
              "      padding: 0 0 0 0;\n",
              "      width: 32px;\n",
              "    }\n",
              "\n",
              "    .colab-df-convert:hover {\n",
              "      background-color: #E2EBFA;\n",
              "      box-shadow: 0px 1px 2px rgba(60, 64, 67, 0.3), 0px 1px 3px 1px rgba(60, 64, 67, 0.15);\n",
              "      fill: #174EA6;\n",
              "    }\n",
              "\n",
              "    .colab-df-buttons div {\n",
              "      margin-bottom: 4px;\n",
              "    }\n",
              "\n",
              "    [theme=dark] .colab-df-convert {\n",
              "      background-color: #3B4455;\n",
              "      fill: #D2E3FC;\n",
              "    }\n",
              "\n",
              "    [theme=dark] .colab-df-convert:hover {\n",
              "      background-color: #434B5C;\n",
              "      box-shadow: 0px 1px 3px 1px rgba(0, 0, 0, 0.15);\n",
              "      filter: drop-shadow(0px 1px 2px rgba(0, 0, 0, 0.3));\n",
              "      fill: #FFFFFF;\n",
              "    }\n",
              "  </style>\n",
              "\n",
              "    <script>\n",
              "      const buttonEl =\n",
              "        document.querySelector('#df-5f13c845-6578-4177-ae21-a46f3a9357a3 button.colab-df-convert');\n",
              "      buttonEl.style.display =\n",
              "        google.colab.kernel.accessAllowed ? 'block' : 'none';\n",
              "\n",
              "      async function convertToInteractive(key) {\n",
              "        const element = document.querySelector('#df-5f13c845-6578-4177-ae21-a46f3a9357a3');\n",
              "        const dataTable =\n",
              "          await google.colab.kernel.invokeFunction('convertToInteractive',\n",
              "                                                    [key], {});\n",
              "        if (!dataTable) return;\n",
              "\n",
              "        const docLinkHtml = 'Like what you see? Visit the ' +\n",
              "          '<a target=\"_blank\" href=https://colab.research.google.com/notebooks/data_table.ipynb>data table notebook</a>'\n",
              "          + ' to learn more about interactive tables.';\n",
              "        element.innerHTML = '';\n",
              "        dataTable['output_type'] = 'display_data';\n",
              "        await google.colab.output.renderOutput(dataTable, element);\n",
              "        const docLink = document.createElement('div');\n",
              "        docLink.innerHTML = docLinkHtml;\n",
              "        element.appendChild(docLink);\n",
              "      }\n",
              "    </script>\n",
              "  </div>\n",
              "\n",
              "\n",
              "<div id=\"df-2b6c50f5-6678-4375-8134-2966925839ec\">\n",
              "  <button class=\"colab-df-quickchart\" onclick=\"quickchart('df-2b6c50f5-6678-4375-8134-2966925839ec')\"\n",
              "            title=\"Suggest charts\"\n",
              "            style=\"display:none;\">\n",
              "\n",
              "<svg xmlns=\"http://www.w3.org/2000/svg\" height=\"24px\"viewBox=\"0 0 24 24\"\n",
              "     width=\"24px\">\n",
              "    <g>\n",
              "        <path d=\"M19 3H5c-1.1 0-2 .9-2 2v14c0 1.1.9 2 2 2h14c1.1 0 2-.9 2-2V5c0-1.1-.9-2-2-2zM9 17H7v-7h2v7zm4 0h-2V7h2v10zm4 0h-2v-4h2v4z\"/>\n",
              "    </g>\n",
              "</svg>\n",
              "  </button>\n",
              "\n",
              "<style>\n",
              "  .colab-df-quickchart {\n",
              "      --bg-color: #E8F0FE;\n",
              "      --fill-color: #1967D2;\n",
              "      --hover-bg-color: #E2EBFA;\n",
              "      --hover-fill-color: #174EA6;\n",
              "      --disabled-fill-color: #AAA;\n",
              "      --disabled-bg-color: #DDD;\n",
              "  }\n",
              "\n",
              "  [theme=dark] .colab-df-quickchart {\n",
              "      --bg-color: #3B4455;\n",
              "      --fill-color: #D2E3FC;\n",
              "      --hover-bg-color: #434B5C;\n",
              "      --hover-fill-color: #FFFFFF;\n",
              "      --disabled-bg-color: #3B4455;\n",
              "      --disabled-fill-color: #666;\n",
              "  }\n",
              "\n",
              "  .colab-df-quickchart {\n",
              "    background-color: var(--bg-color);\n",
              "    border: none;\n",
              "    border-radius: 50%;\n",
              "    cursor: pointer;\n",
              "    display: none;\n",
              "    fill: var(--fill-color);\n",
              "    height: 32px;\n",
              "    padding: 0;\n",
              "    width: 32px;\n",
              "  }\n",
              "\n",
              "  .colab-df-quickchart:hover {\n",
              "    background-color: var(--hover-bg-color);\n",
              "    box-shadow: 0 1px 2px rgba(60, 64, 67, 0.3), 0 1px 3px 1px rgba(60, 64, 67, 0.15);\n",
              "    fill: var(--button-hover-fill-color);\n",
              "  }\n",
              "\n",
              "  .colab-df-quickchart-complete:disabled,\n",
              "  .colab-df-quickchart-complete:disabled:hover {\n",
              "    background-color: var(--disabled-bg-color);\n",
              "    fill: var(--disabled-fill-color);\n",
              "    box-shadow: none;\n",
              "  }\n",
              "\n",
              "  .colab-df-spinner {\n",
              "    border: 2px solid var(--fill-color);\n",
              "    border-color: transparent;\n",
              "    border-bottom-color: var(--fill-color);\n",
              "    animation:\n",
              "      spin 1s steps(1) infinite;\n",
              "  }\n",
              "\n",
              "  @keyframes spin {\n",
              "    0% {\n",
              "      border-color: transparent;\n",
              "      border-bottom-color: var(--fill-color);\n",
              "      border-left-color: var(--fill-color);\n",
              "    }\n",
              "    20% {\n",
              "      border-color: transparent;\n",
              "      border-left-color: var(--fill-color);\n",
              "      border-top-color: var(--fill-color);\n",
              "    }\n",
              "    30% {\n",
              "      border-color: transparent;\n",
              "      border-left-color: var(--fill-color);\n",
              "      border-top-color: var(--fill-color);\n",
              "      border-right-color: var(--fill-color);\n",
              "    }\n",
              "    40% {\n",
              "      border-color: transparent;\n",
              "      border-right-color: var(--fill-color);\n",
              "      border-top-color: var(--fill-color);\n",
              "    }\n",
              "    60% {\n",
              "      border-color: transparent;\n",
              "      border-right-color: var(--fill-color);\n",
              "    }\n",
              "    80% {\n",
              "      border-color: transparent;\n",
              "      border-right-color: var(--fill-color);\n",
              "      border-bottom-color: var(--fill-color);\n",
              "    }\n",
              "    90% {\n",
              "      border-color: transparent;\n",
              "      border-bottom-color: var(--fill-color);\n",
              "    }\n",
              "  }\n",
              "</style>\n",
              "\n",
              "  <script>\n",
              "    async function quickchart(key) {\n",
              "      const quickchartButtonEl =\n",
              "        document.querySelector('#' + key + ' button');\n",
              "      quickchartButtonEl.disabled = true;  // To prevent multiple clicks.\n",
              "      quickchartButtonEl.classList.add('colab-df-spinner');\n",
              "      try {\n",
              "        const charts = await google.colab.kernel.invokeFunction(\n",
              "            'suggestCharts', [key], {});\n",
              "      } catch (error) {\n",
              "        console.error('Error during call to suggestCharts:', error);\n",
              "      }\n",
              "      quickchartButtonEl.classList.remove('colab-df-spinner');\n",
              "      quickchartButtonEl.classList.add('colab-df-quickchart-complete');\n",
              "    }\n",
              "    (() => {\n",
              "      let quickchartButtonEl =\n",
              "        document.querySelector('#df-2b6c50f5-6678-4375-8134-2966925839ec button');\n",
              "      quickchartButtonEl.style.display =\n",
              "        google.colab.kernel.accessAllowed ? 'block' : 'none';\n",
              "    })();\n",
              "  </script>\n",
              "</div>\n",
              "\n",
              "  <div id=\"id_af84dfda-8840-450c-b1bc-ec095fb68f67\">\n",
              "    <style>\n",
              "      .colab-df-generate {\n",
              "        background-color: #E8F0FE;\n",
              "        border: none;\n",
              "        border-radius: 50%;\n",
              "        cursor: pointer;\n",
              "        display: none;\n",
              "        fill: #1967D2;\n",
              "        height: 32px;\n",
              "        padding: 0 0 0 0;\n",
              "        width: 32px;\n",
              "      }\n",
              "\n",
              "      .colab-df-generate:hover {\n",
              "        background-color: #E2EBFA;\n",
              "        box-shadow: 0px 1px 2px rgba(60, 64, 67, 0.3), 0px 1px 3px 1px rgba(60, 64, 67, 0.15);\n",
              "        fill: #174EA6;\n",
              "      }\n",
              "\n",
              "      [theme=dark] .colab-df-generate {\n",
              "        background-color: #3B4455;\n",
              "        fill: #D2E3FC;\n",
              "      }\n",
              "\n",
              "      [theme=dark] .colab-df-generate:hover {\n",
              "        background-color: #434B5C;\n",
              "        box-shadow: 0px 1px 3px 1px rgba(0, 0, 0, 0.15);\n",
              "        filter: drop-shadow(0px 1px 2px rgba(0, 0, 0, 0.3));\n",
              "        fill: #FFFFFF;\n",
              "      }\n",
              "    </style>\n",
              "    <button class=\"colab-df-generate\" onclick=\"generateWithVariable('outlier_data')\"\n",
              "            title=\"Generate code using this dataframe.\"\n",
              "            style=\"display:none;\">\n",
              "\n",
              "  <svg xmlns=\"http://www.w3.org/2000/svg\" height=\"24px\"viewBox=\"0 0 24 24\"\n",
              "       width=\"24px\">\n",
              "    <path d=\"M7,19H8.4L18.45,9,17,7.55,7,17.6ZM5,21V16.75L18.45,3.32a2,2,0,0,1,2.83,0l1.4,1.43a1.91,1.91,0,0,1,.58,1.4,1.91,1.91,0,0,1-.58,1.4L9.25,21ZM18.45,9,17,7.55Zm-12,3A5.31,5.31,0,0,0,4.9,8.1,5.31,5.31,0,0,0,1,6.5,5.31,5.31,0,0,0,4.9,4.9,5.31,5.31,0,0,0,6.5,1,5.31,5.31,0,0,0,8.1,4.9,5.31,5.31,0,0,0,12,6.5,5.46,5.46,0,0,0,6.5,12Z\"/>\n",
              "  </svg>\n",
              "    </button>\n",
              "    <script>\n",
              "      (() => {\n",
              "      const buttonEl =\n",
              "        document.querySelector('#id_af84dfda-8840-450c-b1bc-ec095fb68f67 button.colab-df-generate');\n",
              "      buttonEl.style.display =\n",
              "        google.colab.kernel.accessAllowed ? 'block' : 'none';\n",
              "\n",
              "      buttonEl.onclick = () => {\n",
              "        google.colab.notebook.generateWithVariable('outlier_data');\n",
              "      }\n",
              "      })();\n",
              "    </script>\n",
              "  </div>\n",
              "\n",
              "    </div>\n",
              "  </div>\n"
            ],
            "application/vnd.google.colaboratory.intrinsic+json": {
              "type": "dataframe",
              "variable_name": "outlier_data",
              "summary": "{\n  \"name\": \"outlier_data\",\n  \"rows\": 36,\n  \"fields\": [\n    {\n      \"column\": \"EDUCATION\",\n      \"properties\": {\n        \"dtype\": \"number\",\n        \"std\": 5.228356748129787,\n        \"min\": 2.0,\n        \"max\": 18.0,\n        \"num_unique_values\": 13,\n        \"samples\": [\n          4.0,\n          15.0,\n          7.0\n        ],\n        \"semantic_type\": \"\",\n        \"description\": \"\"\n      }\n    },\n    {\n      \"column\": \"SOUTH\",\n      \"properties\": {\n        \"dtype\": \"category\",\n        \"num_unique_values\": 2,\n        \"samples\": [\n          \"no\",\n          \"yes\"\n        ],\n        \"semantic_type\": \"\",\n        \"description\": \"\"\n      }\n    },\n    {\n      \"column\": \"SEX\",\n      \"properties\": {\n        \"dtype\": \"category\",\n        \"num_unique_values\": 2,\n        \"samples\": [\n          \"female\",\n          \"male\"\n        ],\n        \"semantic_type\": \"\",\n        \"description\": \"\"\n      }\n    },\n    {\n      \"column\": \"EXPERIENCE\",\n      \"properties\": {\n        \"dtype\": \"number\",\n        \"std\": 15.151824239271578,\n        \"min\": 1.0,\n        \"max\": 55.0,\n        \"num_unique_values\": 27,\n        \"samples\": [\n          21.0,\n          29.0\n        ],\n        \"semantic_type\": \"\",\n        \"description\": \"\"\n      }\n    },\n    {\n      \"column\": \"UNION\",\n      \"properties\": {\n        \"dtype\": \"category\",\n        \"num_unique_values\": 2,\n        \"samples\": [\n          \"member\",\n          \"not_member\"\n        ],\n        \"semantic_type\": \"\",\n        \"description\": \"\"\n      }\n    },\n    {\n      \"column\": \"WAGE\",\n      \"properties\": {\n        \"dtype\": \"number\",\n        \"std\": 9.570424531560013,\n        \"min\": 3.0,\n        \"max\": 44.5,\n        \"num_unique_values\": 24,\n        \"samples\": [\n          14.0,\n          3.75\n        ],\n        \"semantic_type\": \"\",\n        \"description\": \"\"\n      }\n    },\n    {\n      \"column\": \"AGE\",\n      \"properties\": {\n        \"dtype\": \"number\",\n        \"std\": 13.088314186860286,\n        \"min\": 21.0,\n        \"max\": 64.0,\n        \"num_unique_values\": 24,\n        \"samples\": [\n          45.0,\n          54.0\n        ],\n        \"semantic_type\": \"\",\n        \"description\": \"\"\n      }\n    },\n    {\n      \"column\": \"RACE\",\n      \"properties\": {\n        \"dtype\": \"category\",\n        \"num_unique_values\": 3,\n        \"samples\": [\n          \"White\",\n          \"Other\"\n        ],\n        \"semantic_type\": \"\",\n        \"description\": \"\"\n      }\n    },\n    {\n      \"column\": \"OCCUPATION\",\n      \"properties\": {\n        \"dtype\": \"category\",\n        \"num_unique_values\": 4,\n        \"samples\": [\n          \"Management\",\n          \"Professional\"\n        ],\n        \"semantic_type\": \"\",\n        \"description\": \"\"\n      }\n    },\n    {\n      \"column\": \"SECTOR\",\n      \"properties\": {\n        \"dtype\": \"category\",\n        \"num_unique_values\": 3,\n        \"samples\": [\n          \"Other\",\n          \"Manufacturing\"\n        ],\n        \"semantic_type\": \"\",\n        \"description\": \"\"\n      }\n    },\n    {\n      \"column\": \"MARR\",\n      \"properties\": {\n        \"dtype\": \"category\",\n        \"num_unique_values\": 2,\n        \"samples\": [\n          \"Unmarried\",\n          \"Married\"\n        ],\n        \"semantic_type\": \"\",\n        \"description\": \"\"\n      }\n    }\n  ]\n}"
            }
          },
          "metadata": {},
          "execution_count": 13
        }
      ],
      "source": [
        "# Select only numeric columns for IQR calculation\n",
        "numeric_wages = wages.select_dtypes(include=['number'])\n",
        "\n",
        "Q1 = numeric_wages.quantile(0.25)\n",
        "Q3 = numeric_wages.quantile(0.75)\n",
        "IQR = Q3 - Q1\n",
        "\n",
        "# Identify outliers in the numeric columns\n",
        "outliers = ((numeric_wages < (Q1 - 1.5 * IQR)) | (numeric_wages > (Q3 + 1.5 * IQR))).any(axis=1)\n",
        "outlier_data = wages[outliers]\n",
        "outlier_data"
      ]
    },
    {
      "cell_type": "markdown",
      "metadata": {
        "id": "XccFHuRYfizj"
      },
      "source": [
        "so what do we do with these outliers?\n",
        "\n",
        "here are some considerations and guildines I came up with:\n",
        "    1. Do Nothing: If outliers are genuine and reflect the data's natural variation, keep them.\n",
        "\n",
        "    2. Remove: If they're errors or very extreme, removing them might improve model accuracy.\n",
        "\n",
        "    3. Transform: Applying transformations (log, square root) can reduce the impact of outliers.\n",
        "\n",
        "    4. Impute: Replace outliers with statistics like median or mean, though this can bias your data.\n",
        "\n",
        "    5. Model Choice: Use models less sensitive to outliers, like tree-based methods.\n",
        "\n",
        "With these being said, I would use do nothing in this case because I want an inclusion of all kind of wage. Say if we live in America, I still want to include billionaires wage as well. Also, there only 36 entries out of 534 entries, which is relatively small, but since we are using simple linear regression models that are sensitive to outliers and not robust like Random Forest or Gradient Boosting Machines. So we have to monitor the prediction result closely and interpret accordingly to the outliers represent in the training data!"
      ]
    },
    {
      "cell_type": "markdown",
      "metadata": {
        "id": "HBw3Vx-5fizj"
      },
      "source": [
        "# EDA"
      ]
    },
    {
      "cell_type": "code",
      "execution_count": 14,
      "metadata": {
        "colab": {
          "base_uri": "https://localhost:8080/",
          "height": 807
        },
        "id": "fOBMyS9yfizj",
        "outputId": "3f10fe31-51d6-4b72-e4ab-3734d522c3b1"
      },
      "outputs": [
        {
          "output_type": "display_data",
          "data": {
            "text/plain": [
              "<Figure size 1000x800 with 4 Axes>"
            ],
            "image/png": "[encoded data removed]"
          },
          "metadata": {}
        }
      ],
      "source": [
        "# Histograms for numerical features\n",
        "wages.hist(bins=10, figsize=(10, 8))\n",
        "plt.tight_layout()\n",
        "plt.show()\n"
      ]
    },
    {
      "cell_type": "code",
      "execution_count": 15,
      "metadata": {
        "colab": {
          "base_uri": "https://localhost:8080/",
          "height": 1000
        },
        "id": "hkkJZu_Ifizk",
        "outputId": "95ebab25-6d89-44b2-97d0-e9a48aaccdc3"
      },
      "outputs": [
        {
          "output_type": "display_data",
          "data": {
            "text/plain": [
              "<Figure size 800x400 with 1 Axes>"
            ],
            "image/png": "[encoded data removed]"
          },
          "metadata": {}
        },
        {
          "output_type": "display_data",
          "data": {
            "text/plain": [
              "<Figure size 800x400 with 1 Axes>"
            ],
            "image/png": "[encoded data removed]"
          },
          "metadata": {}
        },
        {
          "output_type": "display_data",
          "data": {
            "text/plain": [
              "<Figure size 800x400 with 1 Axes>"
            ],
            "image/png": "[encoded data removed]"
          },
          "metadata": {}
        },
        {
          "output_type": "display_data",
          "data": {
            "text/plain": [
              "<Figure size 800x400 with 1 Axes>"
            ],
            "image/png": "[encoded data removed]"
          },
          "metadata": {}
        },
        {
          "output_type": "display_data",
          "data": {
            "text/plain": [
              "<Figure size 800x400 with 1 Axes>"
            ],
            "image/png": "[encoded data removed]"
          },
          "metadata": {}
        },
        {
          "output_type": "display_data",
          "data": {
            "text/plain": [
              "<Figure size 800x400 with 1 Axes>"
            ],
            "image/png": "[encoded data removed]"
          },
          "metadata": {}
        },
        {
          "output_type": "display_data",
          "data": {
            "text/plain": [
              "<Figure size 800x400 with 1 Axes>"
            ],
            "image/png": "[encoded data removed]"
          },
          "metadata": {}
        }
      ],
      "source": [
        "# Count plots for categorical features\n",
        "categorical_features = ['SOUTH', 'SEX', 'UNION', 'RACE', 'OCCUPATION', 'SECTOR', 'MARR']\n",
        "for col in categorical_features:\n",
        "    plt.figure(figsize=(8, 4))\n",
        "    sns.countplot(data=wages, x=col)\n",
        "    plt.title(f'Count plot of {col}')\n",
        "    plt.show()\n"
      ]
    },
    {
      "cell_type": "code",
      "execution_count": 16,
      "metadata": {
        "colab": {
          "base_uri": "https://localhost:8080/",
          "height": 803
        },
        "id": "Ow-_Yh3Yfizk",
        "outputId": "fe6be4fd-45b8-4b3c-ca85-d04168952355"
      },
      "outputs": [
        {
          "output_type": "display_data",
          "data": {
            "text/plain": [
              "<Figure size 800x400 with 1 Axes>"
            ],
            "image/png": "[encoded data removed]"
          },
          "metadata": {}
        },
        {
          "output_type": "display_data",
          "data": {
            "text/plain": [
              "<Figure size 800x400 with 1 Axes>"
            ],
            "image/png": "[encoded data removed]"
          },
          "metadata": {}
        }
      ],
      "source": [
        "# Boxplot for WAGE distribution across different SEX\n",
        "plt.figure(figsize=(8, 4))\n",
        "sns.boxplot(data=wages, x='SEX', y='WAGE')\n",
        "plt.title('WAGE distribution by SEX')\n",
        "plt.show()\n",
        "\n",
        "# Scatter plot of WAGE against EXPERIENCE\n",
        "plt.figure(figsize=(8, 4))\n",
        "sns.scatterplot(data=wages, x='EXPERIENCE', y='WAGE')\n",
        "plt.title('WAGE vs. EXPERIENCE')\n",
        "plt.show()\n"
      ]
    },
    {
      "cell_type": "markdown",
      "metadata": {
        "id": "H_Wh7lajfizk"
      },
      "source": [
        "wage has linear relationship with experience and men make a little bit more money than women on average"
      ]
    },
    {
      "cell_type": "markdown",
      "metadata": {
        "id": "bUy8aEqffizk"
      },
      "source": [
        "# Data Prep and Model Compararison"
      ]
    },
    {
      "cell_type": "markdown",
      "metadata": {
        "id": "HewpRbndfizl"
      },
      "source": [
        "I have created a libraries that take data, process it (StandarScaler(), ColumnTransformer() both categorical adn numerical), build a pipeline with the corresponding model and feature selector techniques, it also perform different CV techniques and lastly fit the model and compute the average MSE. Please enjoy the magic...\n",
        "\n",
        "JK it is just all the material we learn in this module haha"
      ]
    },
    {
      "cell_type": "code",
      "execution_count": 19,
      "metadata": {
        "id": "aVSkW9xTfizl"
      },
      "outputs": [],
      "source": [
        "import sys\n",
        "sys.path.append(r'C:\\Users\\ablopez\\OneDrive - CoAdvantage\\ML-AI\\Module 9') # for window\n",
        "#sys.path.append('/Users/ihduynguyen/Desktop/ML_AI_UCBerkeley/UCBerkleyML-AI-TryIts/module 9/9.3')"
      ]
    },
    {
      "cell_type": "code",
      "source": [
        "# prompt: import FeatureSelector, ModelEvaluator, ModelTrainer\n",
        "\n",
        "!pip install UCBerkeley_MLAI\n"
      ],
      "metadata": {
        "colab": {
          "base_uri": "https://localhost:8080/"
        },
        "id": "3AX4C8h5ybdM",
        "outputId": "825daaf0-0c0a-4c48-9b83-4f3bcc843e30"
      },
      "execution_count": 20,
      "outputs": [
        {
          "output_type": "stream",
          "name": "stdout",
          "text": [
            "\u001b[31mERROR: Could not find a version that satisfies the requirement UCBerkeley_MLAI (from versions: none)\u001b[0m\u001b[31m\n",
            "\u001b[0m\u001b[31mERROR: No matching distribution found for UCBerkeley_MLAI\u001b[0m\u001b[31m\n",
            "\u001b[0m"
          ]
        }
      ]
    },
    {
      "cell_type": "code",
      "source": [
        "FeatureSelector"
      ],
      "metadata": {
        "colab": {
          "base_uri": "https://localhost:8080/",
          "height": 144
        },
        "id": "CUB0zGCb7Bp1",
        "outputId": "0182e6a0-2bfe-4f67-db9b-539dba418a80"
      },
      "execution_count": 25,
      "outputs": [
        {
          "output_type": "error",
          "ename": "NameError",
          "evalue": "name 'FeatureSelector' is not defined",
          "traceback": [
            "\u001b[0;31m---------------------------------------------------------------------------\u001b[0m",
            "\u001b[0;31mNameError\u001b[0m                                 Traceback (most recent call last)",
            "\u001b[0;32m<ipython-input-25-f516ca5d2ca8>\u001b[0m in \u001b[0;36m<cell line: 1>\u001b[0;34m()\u001b[0m\n\u001b[0;32m----> 1\u001b[0;31m \u001b[0mFeatureSelector\u001b[0m\u001b[0;34m\u001b[0m\u001b[0;34m\u001b[0m\u001b[0m\n\u001b[0m",
            "\u001b[0;31mNameError\u001b[0m: name 'FeatureSelector' is not defined"
          ]
        }
      ]
    },
    {
      "cell_type": "code",
      "execution_count": 22,
      "metadata": {
        "colab": {
          "base_uri": "https://localhost:8080/",
          "height": 161
        },
        "id": "gLuziiHBfizl",
        "outputId": "62fabe15-5abc-4358-d715-2a6b1b338707"
      },
      "outputs": [
        {
          "output_type": "error",
          "ename": "ModuleNotFoundError",
          "evalue": "No module named 'UCBerkeley_MLAI'",
          "traceback": [
            "\u001b[0;31m---------------------------------------------------------------------------\u001b[0m",
            "\u001b[0;31mModuleNotFoundError\u001b[0m                       Traceback (most recent call last)",
            "\u001b[0;32m<ipython-input-22-27f2a82db3c3>\u001b[0m in \u001b[0;36m<cell line: 2>\u001b[0;34m()\u001b[0m\n\u001b[1;32m      1\u001b[0m \u001b[0;32mfrom\u001b[0m \u001b[0msklearn\u001b[0m\u001b[0;34m.\u001b[0m\u001b[0mlinear_model\u001b[0m \u001b[0;32mimport\u001b[0m \u001b[0mRidge\u001b[0m\u001b[0;34m,\u001b[0m \u001b[0mLasso\u001b[0m\u001b[0;34m,\u001b[0m \u001b[0mLinearRegression\u001b[0m\u001b[0;34m\u001b[0m\u001b[0;34m\u001b[0m\u001b[0m\n\u001b[0;32m----> 2\u001b[0;31m \u001b[0;32mfrom\u001b[0m \u001b[0mUCBerkeley_MLAI\u001b[0m\u001b[0;34m.\u001b[0m\u001b[0mmodel_selection\u001b[0m \u001b[0;32mimport\u001b[0m \u001b[0mFeatureSelector\u001b[0m\u001b[0;34m,\u001b[0m \u001b[0mModelEvaluator\u001b[0m\u001b[0;34m,\u001b[0m \u001b[0mModelTrainer\u001b[0m\u001b[0;34m\u001b[0m\u001b[0;34m\u001b[0m\u001b[0m\n\u001b[0m",
            "\u001b[0;31mModuleNotFoundError\u001b[0m: No module named 'UCBerkeley_MLAI'"
          ]
        }
      ],
      "source": [
        "from sklearn.linear_model import Ridge, Lasso, LinearRegression\n",
        "from UCBerkeley_MLAI.model_selection import FeatureSelector, ModelEvaluator, ModelTrainer"
      ]
    },
    {
      "cell_type": "code",
      "execution_count": null,
      "metadata": {
        "id": "oBeB5AN6fizl"
      },
      "outputs": [],
      "source": [
        "y = wages['WAGE']\n",
        "X = wages.drop('WAGE', axis=1)\n",
        "\n",
        "numeric_features = ['EDUCATION', 'EXPERIENCE', 'AGE']\n",
        "categorical_features = ['SOUTH', 'SEX', 'UNION', 'RACE', 'OCCUPATION', 'SECTOR', 'MARR']"
      ]
    },
    {
      "cell_type": "code",
      "execution_count": null,
      "metadata": {
        "id": "MglrL1Hafizl"
      },
      "outputs": [],
      "source": [
        "cv_strategies = {\n",
        "    \"KFold\": {\"n_splits\": 5},\n",
        "    \"LOO\": {},\n",
        "    \"Holdout\": {\"test_size\": 0.2, \"random_state\": 42}  # Example configuration\n",
        "}\n"
      ]
    },
    {
      "cell_type": "markdown",
      "metadata": {
        "id": "rnWFGGTsfizl"
      },
      "source": [
        "#### Looping Through all the possible CVs on each model and feature selection!\n",
        "- We are implementing grid search cv manually and without actually using GridSearchCV()\n",
        "- In this model_selection module, we first build a pipeline that ColumnsTrasform numeric and categorical features to deal with categorical feature for training\n",
        "- Then we pass the feature selector method and which model for fitting into the pipeline.\n",
        "- After we set up the pipeline in ModelTrainer module, we pass the X and y into the ModelEvaluator to split the training and testing data using our CVs technique.\n",
        "- Then we pass the split data to train the pipeline\n",
        "- After we get our first trained model, we predict and compute the average test MSE\n",
        "    - Remember that the reason we calculate the mean because the each CV technique has many folds. For example, K fold, if you choose K = 5, you have 5 folds so we take the average of 5.\n",
        "    - While LOOCV will have the number of fold base on the number of rows of the data set so that is take longer to compute for LOOCV\n"
      ]
    },
    {
      "cell_type": "code",
      "execution_count": 18,
      "metadata": {
        "colab": {
          "base_uri": "https://localhost:8080/",
          "height": 215
        },
        "id": "LkRzwMcXfizm",
        "outputId": "28330856-2e69-49d8-9b24-68ccc7c746d4"
      },
      "outputs": [
        {
          "output_type": "error",
          "ename": "NameError",
          "evalue": "name 'FeatureSelector' is not defined",
          "traceback": [
            "\u001b[0;31m---------------------------------------------------------------------------\u001b[0m",
            "\u001b[0;31mNameError\u001b[0m                                 Traceback (most recent call last)",
            "\u001b[0;32m<ipython-input-18-eba27874b2e3>\u001b[0m in \u001b[0;36m<cell line: 12>\u001b[0;34m()\u001b[0m\n\u001b[1;32m     10\u001b[0m \u001b[0;34m\u001b[0m\u001b[0m\n\u001b[1;32m     11\u001b[0m \u001b[0;31m# Feature selector initialization\u001b[0m\u001b[0;34m\u001b[0m\u001b[0;34m\u001b[0m\u001b[0m\n\u001b[0;32m---> 12\u001b[0;31m \u001b[0mfeature_selector\u001b[0m \u001b[0;34m=\u001b[0m \u001b[0mFeatureSelector\u001b[0m\u001b[0;34m(\u001b[0m\u001b[0mn_features_to_select\u001b[0m\u001b[0;34m=\u001b[0m\u001b[0;36m5\u001b[0m\u001b[0;34m)\u001b[0m\u001b[0;34m\u001b[0m\u001b[0;34m\u001b[0m\u001b[0m\n\u001b[0m\u001b[1;32m     13\u001b[0m \u001b[0;34m\u001b[0m\u001b[0m\n\u001b[1;32m     14\u001b[0m \u001b[0;32mfor\u001b[0m \u001b[0mmodel_cls\u001b[0m\u001b[0;34m,\u001b[0m \u001b[0mhyperparams\u001b[0m \u001b[0;32min\u001b[0m \u001b[0mmodels_and_hyperparams\u001b[0m\u001b[0;34m.\u001b[0m\u001b[0mitems\u001b[0m\u001b[0;34m(\u001b[0m\u001b[0;34m)\u001b[0m\u001b[0;34m:\u001b[0m\u001b[0;34m\u001b[0m\u001b[0;34m\u001b[0m\u001b[0m\n",
            "\u001b[0;31mNameError\u001b[0m: name 'FeatureSelector' is not defined"
          ]
        }
      ],
      "source": [
        "# Define models and their hyperparameters\n",
        "models_and_hyperparams = {\n",
        "    Ridge: {'alphas': [0.01, 0.1, 1.0, 10.0, 100.0]},\n",
        "    Lasso: {'alphas': [0.01, 0.1, 1.0, 10.0, 100.0]}\n",
        "}\n",
        "\n",
        "feature_selection_strategies = ['SFS', 'RFE', 'RidgeImportance']\n",
        "\n",
        "model_trainers = []\n",
        "\n",
        "# Feature selector initialization\n",
        "feature_selector = FeatureSelector(n_features_to_select=5)\n",
        "\n",
        "for model_cls, hyperparams in models_and_hyperparams.items():\n",
        "    for strategy in feature_selection_strategies:\n",
        "        for alpha in hyperparams['alphas']:\n",
        "            model = model_cls(alpha=alpha)  # Instantiate the model with the current alpha\n",
        "            trainer = ModelTrainer(model, feature_selector=feature_selector, selection_strategy=strategy, numeric_features=numeric_features, categorical_features=categorical_features)\n",
        "            model_trainers.append(trainer)\n",
        "\n",
        "\n",
        "# Note: LinearRegression doesn't have a hyperparameter like alpha to vary in this context\n",
        "linear_trainer_RFE = ModelTrainer(LinearRegression(), feature_selector=feature_selector, selection_strategy='RFE', numeric_features=numeric_features, categorical_features=categorical_features)\n",
        "model_trainers.append(linear_trainer_RFE)\n",
        "\n",
        "linear_trainer_SFS = ModelTrainer(LinearRegression(), feature_selector=feature_selector, selection_strategy='SFS', numeric_features=numeric_features, categorical_features=categorical_features)\n",
        "model_trainers.append(linear_trainer_SFS)\n",
        "\n",
        "# Define your CV strategies\n",
        "cv_strategies = {\n",
        "    \"KFold\": {\"n_splits\": 5},\n",
        "    \"LOO\": {},\n",
        "    \"Holdout\": {\"test_size\": 0.2, \"random_state\": 42}\n",
        "}\n"
      ]
    },
    {
      "cell_type": "code",
      "execution_count": 23,
      "metadata": {
        "colab": {
          "base_uri": "https://localhost:8080/",
          "height": 197
        },
        "id": "u4HrN9WRfizm",
        "outputId": "d24bcd38-70c1-4e3d-a538-24537baaee45"
      },
      "outputs": [
        {
          "output_type": "error",
          "ename": "NameError",
          "evalue": "name 'ModelEvaluator' is not defined",
          "traceback": [
            "\u001b[0;31m---------------------------------------------------------------------------\u001b[0m",
            "\u001b[0;31mNameError\u001b[0m                                 Traceback (most recent call last)",
            "\u001b[0;32m<ipython-input-23-7de15bb128c1>\u001b[0m in \u001b[0;36m<cell line: 2>\u001b[0;34m()\u001b[0m\n\u001b[1;32m      1\u001b[0m \u001b[0;31m# Assuming ModelEvaluator is defined as before\u001b[0m\u001b[0;34m\u001b[0m\u001b[0;34m\u001b[0m\u001b[0m\n\u001b[0;32m----> 2\u001b[0;31m \u001b[0mmodel_evaluator\u001b[0m \u001b[0;34m=\u001b[0m \u001b[0mModelEvaluator\u001b[0m\u001b[0;34m(\u001b[0m\u001b[0mmodel_trainers\u001b[0m\u001b[0;34m=\u001b[0m\u001b[0mmodel_trainers\u001b[0m\u001b[0;34m,\u001b[0m \u001b[0mcv_strategies\u001b[0m\u001b[0;34m=\u001b[0m\u001b[0mcv_strategies\u001b[0m\u001b[0;34m)\u001b[0m\u001b[0;34m\u001b[0m\u001b[0;34m\u001b[0m\u001b[0m\n\u001b[0m\u001b[1;32m      3\u001b[0m \u001b[0;34m\u001b[0m\u001b[0m\n\u001b[1;32m      4\u001b[0m \u001b[0mresults\u001b[0m \u001b[0;34m=\u001b[0m \u001b[0mmodel_evaluator\u001b[0m\u001b[0;34m.\u001b[0m\u001b[0mevaluate\u001b[0m\u001b[0;34m(\u001b[0m\u001b[0mX\u001b[0m\u001b[0;34m,\u001b[0m \u001b[0my\u001b[0m\u001b[0;34m)\u001b[0m\u001b[0;34m\u001b[0m\u001b[0;34m\u001b[0m\u001b[0m\n",
            "\u001b[0;31mNameError\u001b[0m: name 'ModelEvaluator' is not defined"
          ]
        }
      ],
      "source": [
        "# Assuming ModelEvaluator is defined as before\n",
        "model_evaluator = ModelEvaluator(model_trainers=model_trainers, cv_strategies=cv_strategies)\n",
        "\n",
        "results = model_evaluator.evaluate(X, y)"
      ]
    },
    {
      "cell_type": "markdown",
      "metadata": {
        "id": "HUQhqBkxfizm"
      },
      "source": [
        "# Disclaimer: run the grid search manually took around 2.45 hours (147 mins) so be PATIENT\n",
        "\n",
        "Now that we have all the model, what is the best model out of these 27 models:"
      ]
    },
    {
      "cell_type": "code",
      "execution_count": null,
      "metadata": {
        "id": "aEpQ9PfOfizm",
        "outputId": "1a4607eb-00c3-40d1-f3ab-57c380c8f4c5"
      },
      "outputs": [
        {
          "name": "stdout",
          "output_type": "stream",
          "text": [
            "('KFold', 'Ridge_RFE_alpha_1.0'): Avg MSE = 28.951802636551104\n",
            "('LOO', 'Ridge_RFE_alpha_1.0'): Avg MSE = 22.369498965288727\n",
            "('Holdout', 'Ridge_RFE_alpha_1.0'): Avg MSE = 23.898849258499627\n",
            "\n",
            "Model with the lowest Avg MSE: ('LOO', 'Ridge_RFE_alpha_1.0') => Avg MSE = 22.369498965288727\n"
          ]
        }
      ],
      "source": [
        "# Initialize a dictionary to store the average MSE for each model configuration\n",
        "avg_mse_scores = {}\n",
        "\n",
        "# Iterate through the results to calculate the average MSE\n",
        "for key, scores in mse_scores.items():\n",
        "    avg_mse = np.mean(scores)\n",
        "    avg_mse_scores[key] = avg_mse\n",
        "    print(f\"{key}: Avg MSE = {avg_mse}\")\n",
        "\n",
        "# Identify the model configuration with the lowest average MSE\n",
        "lowest_avg_mse_key = min(avg_mse_scores, key=avg_mse_scores.get)\n",
        "lowest_avg_mse_value = avg_mse_scores[lowest_avg_mse_key]\n",
        "\n",
        "print(f\"\\nModel with the lowest Avg MSE: {lowest_avg_mse_key} => Avg MSE = {lowest_avg_mse_value}\")\n"
      ]
    },
    {
      "cell_type": "markdown",
      "metadata": {
        "id": "zevzPx9Bfizm"
      },
      "source": [
        "### Simple hyperparameters Example"
      ]
    },
    {
      "cell_type": "code",
      "execution_count": null,
      "metadata": {
        "id": "FhgZ1ZhAfizn",
        "outputId": "62340fd4-a16b-487d-ee1f-c4018dad965e"
      },
      "outputs": [
        {
          "name": "stdout",
          "output_type": "stream",
          "text": [
            "('KFold', 'Ridge_RFE_alpha_1.0'): Avg MSE = 28.951802636551104\n",
            "('KFold', 'Ridge_RFE_alpha_0.1'): Avg MSE = 28.997284442836975\n",
            "('KFold', 'Lasso_RFE_alpha_0.1'): Avg MSE = 28.594293488059343\n",
            "('LOO', 'Ridge_RFE_alpha_1.0'): Avg MSE = 22.369498965288727\n",
            "('LOO', 'Ridge_RFE_alpha_0.1'): Avg MSE = 22.372720695873685\n",
            "('LOO', 'Lasso_RFE_alpha_0.1'): Avg MSE = 22.58244194640494\n",
            "('Holdout', 'Ridge_RFE_alpha_1.0'): Avg MSE = 23.898849258499627\n",
            "('Holdout', 'Ridge_RFE_alpha_0.1'): Avg MSE = 23.79596944326002\n",
            "('Holdout', 'Lasso_RFE_alpha_0.1'): Avg MSE = 25.17934011278555\n"
          ]
        }
      ],
      "source": [
        "original_columns = wages.columns.tolist()\n",
        "\n",
        "feature_selector = FeatureSelector(n_features_to_select=2)\n",
        "\n",
        "ridge_RFE_1 = ModelTrainer(Ridge(alpha=1.0), feature_selector=feature_selector, selection_strategy='RFE', numeric_features=numeric_features, categorical_features=categorical_features, original_columns=original_columns)\n",
        "ridge_RFE_01 = ModelTrainer(Ridge(alpha=0.1), feature_selector=feature_selector, selection_strategy='RFE', numeric_features=numeric_features, categorical_features=categorical_features, original_columns=original_columns)\n",
        "lasso_RFE_01 = ModelTrainer(Lasso(alpha=0.1), feature_selector=feature_selector, selection_strategy='RFE', numeric_features=numeric_features, categorical_features=categorical_features, original_columns=original_columns)\n",
        "\n",
        "model_evaluator = ModelEvaluator(model_trainers=[ridge_RFE_1, ridge_RFE_01, lasso_RFE_01], cv_strategies=cv_strategies)\n",
        "\n",
        "results, feature_importances, results_df = model_evaluator.evaluate(X, y)"
      ]
    },
    {
      "cell_type": "markdown",
      "metadata": {
        "id": "QhNFmRoffizn"
      },
      "source": [
        "now we are expecting 3 means from each CV technique\n",
        "\n",
        "the lowest we get is\n",
        "- Model with the lowest Avg MSE: ('LOO', 'Ridge_RFE_alpha1.0') => Avg MSE = 22.369498965288724\n"
      ]
    },
    {
      "cell_type": "markdown",
      "metadata": {
        "id": "DENFb4_0fizn"
      },
      "source": [
        "#### Checking which feature importance the model selected!"
      ]
    },
    {
      "cell_type": "code",
      "execution_count": null,
      "metadata": {
        "id": "L3aXSjHTfizn",
        "outputId": "0236a940-7491-467f-f0fa-f20b28e3dcea"
      },
      "outputs": [
        {
          "name": "stdout",
          "output_type": "stream",
          "text": [
            "Features selected by Ridge with RFE and alpha=1.0 under KFold: ['cat__UNION_member', 'cat__OCCUPATION_Management']\n"
          ]
        }
      ],
      "source": [
        "# Assuming 'results' contains both MSE scores and feature importances\n",
        "mse_scores, feature_importances = results\n",
        "\n",
        "# Access the feature importances for the particular trainer\n",
        "selected_features = feature_importances[('KFold', 'Ridge_RFE_alpha_1.0')]\n",
        "print(f\"Features selected by Ridge with RFE and alpha=1.0 under KFold: {selected_features}\")"
      ]
    },
    {
      "cell_type": "markdown",
      "metadata": {
        "id": "ZaktNgkBfizn"
      },
      "source": [
        "### look at the dataframe for further analysis"
      ]
    },
    {
      "cell_type": "code",
      "execution_count": null,
      "metadata": {
        "id": "qtN78iYWfizo",
        "outputId": "b9da3df6-1423-44bc-eab5-ef5be523b60f"
      },
      "outputs": [
        {
          "data": {
            "text/html": [
              "<div>\n",
              "<style scoped>\n",
              "    .dataframe tbody tr th:only-of-type {\n",
              "        vertical-align: middle;\n",
              "    }\n",
              "\n",
              "    .dataframe tbody tr th {\n",
              "        vertical-align: top;\n",
              "    }\n",
              "\n",
              "    .dataframe thead th {\n",
              "        text-align: right;\n",
              "    }\n",
              "</style>\n",
              "<table border=\"1\" class=\"dataframe\">\n",
              "  <thead>\n",
              "    <tr style=\"text-align: right;\">\n",
              "      <th></th>\n",
              "      <th>CV_Strategy</th>\n",
              "      <th>Description</th>\n",
              "      <th>Avg_MSE</th>\n",
              "      <th>Selected_Features</th>\n",
              "    </tr>\n",
              "  </thead>\n",
              "  <tbody>\n",
              "    <tr>\n",
              "      <th>0</th>\n",
              "      <td>KFold</td>\n",
              "      <td>Ridge_RFE_alpha_1.0</td>\n",
              "      <td>28.951803</td>\n",
              "      <td>cat__UNION_member, cat__OCCUPATION_Management</td>\n",
              "    </tr>\n",
              "    <tr>\n",
              "      <th>1</th>\n",
              "      <td>KFold</td>\n",
              "      <td>Ridge_RFE_alpha_0.1</td>\n",
              "      <td>28.997284</td>\n",
              "      <td>cat__UNION_member, cat__OCCUPATION_Management</td>\n",
              "    </tr>\n",
              "    <tr>\n",
              "      <th>2</th>\n",
              "      <td>KFold</td>\n",
              "      <td>Lasso_RFE_alpha_0.1</td>\n",
              "      <td>28.594293</td>\n",
              "      <td>cat__UNION_member, cat__OCCUPATION_Management</td>\n",
              "    </tr>\n",
              "    <tr>\n",
              "      <th>3</th>\n",
              "      <td>LOO</td>\n",
              "      <td>Ridge_RFE_alpha_1.0</td>\n",
              "      <td>22.369499</td>\n",
              "      <td>cat__OCCUPATION_Management, cat__OCCUPATION_Pr...</td>\n",
              "    </tr>\n",
              "    <tr>\n",
              "      <th>4</th>\n",
              "      <td>LOO</td>\n",
              "      <td>Ridge_RFE_alpha_0.1</td>\n",
              "      <td>22.372721</td>\n",
              "      <td>cat__OCCUPATION_Management, cat__OCCUPATION_Pr...</td>\n",
              "    </tr>\n",
              "    <tr>\n",
              "      <th>5</th>\n",
              "      <td>LOO</td>\n",
              "      <td>Lasso_RFE_alpha_0.1</td>\n",
              "      <td>22.582442</td>\n",
              "      <td>cat__OCCUPATION_Management, cat__OCCUPATION_Pr...</td>\n",
              "    </tr>\n",
              "    <tr>\n",
              "      <th>6</th>\n",
              "      <td>Holdout</td>\n",
              "      <td>Ridge_RFE_alpha_1.0</td>\n",
              "      <td>23.898849</td>\n",
              "      <td>cat__OCCUPATION_Management, cat__OCCUPATION_Pr...</td>\n",
              "    </tr>\n",
              "    <tr>\n",
              "      <th>7</th>\n",
              "      <td>Holdout</td>\n",
              "      <td>Ridge_RFE_alpha_0.1</td>\n",
              "      <td>23.795969</td>\n",
              "      <td>cat__OCCUPATION_Management, cat__OCCUPATION_Pr...</td>\n",
              "    </tr>\n",
              "    <tr>\n",
              "      <th>8</th>\n",
              "      <td>Holdout</td>\n",
              "      <td>Lasso_RFE_alpha_0.1</td>\n",
              "      <td>25.179340</td>\n",
              "      <td>cat__OCCUPATION_Management, cat__OCCUPATION_Pr...</td>\n",
              "    </tr>\n",
              "  </tbody>\n",
              "</table>\n",
              "</div>"
            ],
            "text/plain": [
              "  CV_Strategy          Description    Avg_MSE  \\\n",
              "0       KFold  Ridge_RFE_alpha_1.0  28.951803   \n",
              "1       KFold  Ridge_RFE_alpha_0.1  28.997284   \n",
              "2       KFold  Lasso_RFE_alpha_0.1  28.594293   \n",
              "3         LOO  Ridge_RFE_alpha_1.0  22.369499   \n",
              "4         LOO  Ridge_RFE_alpha_0.1  22.372721   \n",
              "5         LOO  Lasso_RFE_alpha_0.1  22.582442   \n",
              "6     Holdout  Ridge_RFE_alpha_1.0  23.898849   \n",
              "7     Holdout  Ridge_RFE_alpha_0.1  23.795969   \n",
              "8     Holdout  Lasso_RFE_alpha_0.1  25.179340   \n",
              "\n",
              "                                   Selected_Features  \n",
              "0      cat__UNION_member, cat__OCCUPATION_Management  \n",
              "1      cat__UNION_member, cat__OCCUPATION_Management  \n",
              "2      cat__UNION_member, cat__OCCUPATION_Management  \n",
              "3  cat__OCCUPATION_Management, cat__OCCUPATION_Pr...  \n",
              "4  cat__OCCUPATION_Management, cat__OCCUPATION_Pr...  \n",
              "5  cat__OCCUPATION_Management, cat__OCCUPATION_Pr...  \n",
              "6  cat__OCCUPATION_Management, cat__OCCUPATION_Pr...  \n",
              "7  cat__OCCUPATION_Management, cat__OCCUPATION_Pr...  \n",
              "8  cat__OCCUPATION_Management, cat__OCCUPATION_Pr...  "
            ]
          },
          "execution_count": 19,
          "metadata": {},
          "output_type": "execute_result"
        }
      ],
      "source": [
        "results_df"
      ]
    },
    {
      "cell_type": "code",
      "execution_count": null,
      "metadata": {
        "id": "l2rHuv6ifizo"
      },
      "outputs": [],
      "source": [
        "# prompt: can you draw some conclusions from the above work\n",
        "\n",
        "# Based on the results of the grid search, the best model configuration was found to be Ridge regression with alpha=1.0 and feature selection using Recursive Feature Elimination (RFE). This model achieved the lowest average MSE of 22.369498965288724.\n",
        "\n",
        "# The feature importances for this model show that the two most important features for predicting WAGE are EXPERIENCE and EDUCATION. This suggests that these two features have the strongest relationship with WAGE and are the most informative for the model.\n",
        "\n",
        "# Other models, such as Lasso regression with alpha=0.1 and RFE feature selection, also performed well, but the Ridge model with alpha=1.0 ultimately achieved the best results.\n",
        "\n",
        "# Overall, this analysis suggests that EXPERIENCE and EDUCATION are the most important factors in predicting WAGE, and that Ridge regression is a suitable model for this task.\n"
      ]
    },
    {
      "cell_type": "code",
      "execution_count": null,
      "metadata": {
        "id": "cafkXb-Sfizo"
      },
      "outputs": [],
      "source": []
    },
    {
      "cell_type": "code",
      "execution_count": null,
      "metadata": {
        "id": "i58VVsCOfizo"
      },
      "outputs": [],
      "source": []
    },
    {
      "cell_type": "code",
      "execution_count": null,
      "metadata": {
        "id": "dLxF7smzfizt"
      },
      "outputs": [],
      "source": []
    }
  ],
  "metadata": {
    "kernelspec": {
      "display_name": "Python 3",
      "language": "python",
      "name": "python3"
    },
    "language_info": {
      "codemirror_mode": {
        "name": "ipython",
        "version": 3
      },
      "file_extension": ".py",
      "mimetype": "text/x-python",
      "name": "python",
      "nbconvert_exporter": "python",
      "pygments_lexer": "ipython3",
      "version": "3.11.9"
    },
    "colab": {
      "provenance": [],
      "include_colab_link": true
    }
  },
  "nbformat": 4,
  "nbformat_minor": 0
}